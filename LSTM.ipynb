{
  "nbformat": 4,
  "nbformat_minor": 0,
  "metadata": {
    "colab": {
      "name": "LSTM.ipynb",
      "provenance": [],
      "private_outputs": true,
      "include_colab_link": true
    },
    "kernelspec": {
      "name": "python3",
      "display_name": "Python 3"
    },
    "accelerator": "GPU"
  },
  "cells": [
    {
      "cell_type": "markdown",
      "metadata": {
        "id": "view-in-github",
        "colab_type": "text"
      },
      "source": [
        "<a href=\"https://colab.research.google.com/github/anirudh201098/Store-Item-Demand-Forecasting/blob/master/LSTM.ipynb\" target=\"_parent\"><img src=\"https://colab.research.google.com/assets/colab-badge.svg\" alt=\"Open In Colab\"/></a>"
      ]
    },
    {
      "cell_type": "code",
      "metadata": {
        "id": "XuizDZEBVbi2"
      },
      "source": [
        "import numpy as np\n",
        "import pandas as pd\n",
        "import os"
      ],
      "execution_count": null,
      "outputs": []
    },
    {
      "cell_type": "code",
      "metadata": {
        "id": "mU0oVsFtfkww"
      },
      "source": [
        "from google.colab import drive\n",
        "drive.mount('/content/drive')"
      ],
      "execution_count": null,
      "outputs": []
    },
    {
      "cell_type": "code",
      "metadata": {
        "id": "NKNB_f4rvrG3"
      },
      "source": [
        "data=pd.read_csv('/content/drive/My Drive/temp/train.csv',parse_dates=['date'],index_col=['date'])"
      ],
      "execution_count": null,
      "outputs": []
    },
    {
      "cell_type": "code",
      "metadata": {
        "id": "7jKGMybMvvLR"
      },
      "source": [
        "data= data.sort_values('date', ascending=True)"
      ],
      "execution_count": null,
      "outputs": []
    },
    {
      "cell_type": "code",
      "metadata": {
        "id": "KAFZERZfvxVM"
      },
      "source": [
        "test=data[data.index.year==2017]\n",
        "test.reset_index(level=0,inplace=True)\n",
        "train=data[data.index.year!=2017]\n",
        "train.reset_index(level=0,inplace=True)"
      ],
      "execution_count": null,
      "outputs": []
    },
    {
      "cell_type": "code",
      "metadata": {
        "id": "YyXI2JIivzWd"
      },
      "source": [
        "\n",
        "train_data = pd.DataFrame({'year': train['date'].dt.year-2013, 'month': train['date'].dt.month, 'day': train['date'].dt.day, \n",
        "                       'weekday': train['date'].dt.weekday,\n",
        "                       'store': train.store, 'item': train.item,'sales':train.sales\n",
        "                      }, columns = ['year', 'month', 'day', 'weekday', 'store', 'item','sales'],\n",
        "                    )\n",
        "\n",
        "\n",
        "\n",
        "test_data = pd.DataFrame({'year': test['date'].dt.year-2013, 'month': test['date'].dt.month, 'day': test['date'].dt.day, \n",
        "                       'weekday': test['date'].dt.weekday,\n",
        "                       'store': test.store, 'item': test.item,'sales':test.sales\n",
        "                      }, columns = ['year', 'month', 'day', 'weekday', 'store', 'item','sales'],\n",
        "                    )\n"
      ],
      "execution_count": null,
      "outputs": []
    },
    {
      "cell_type": "code",
      "metadata": {
        "id": "mYa8-GxG67EM"
      },
      "source": [
        "np.unique(train_data['year'])"
      ],
      "execution_count": null,
      "outputs": []
    },
    {
      "cell_type": "code",
      "metadata": {
        "id": "r9c31ngjv28h"
      },
      "source": [
        "X=np.array(train_data.drop('sales',axis=1))\n",
        "y=np.array(train_data['sales'])\n",
        "X_test=np.array(test_data.drop('sales',axis=1))\n",
        "y_test=np.array(test_data['sales'])"
      ],
      "execution_count": null,
      "outputs": []
    },
    {
      "cell_type": "code",
      "metadata": {
        "id": "KKc0NIKiv8Pv"
      },
      "source": [
        "from sklearn.model_selection import train_test_split\n",
        "def split(random,n,X_train,y_train,m):\n",
        "  random_split =random\n",
        "  train_ratio = n\n",
        "\n",
        "  if random_split:\n",
        "      X_train1, X_val, y_train1, y_val = train_test_split(X_train, y_train, test_size=(1-train_ratio), random_state=0, shuffle = True)\n",
        "  else:\n",
        "    if m==1:\n",
        "        X_train1 = X_train[(X_train[:,0]!=n)|(X_train[:,1]>6)]\n",
        "        y_train1 = y_train[(X_train[:,0]!=n)|(X_train[:,1]>6)]\n",
        "        X_val = X_train[(X_train[:,0]==n)&(X_train[:,1]<=6)]\n",
        "        y_val = y_train[(X_train[:,0]==n)&(X_train[:,1]<=6)]\n",
        "    else: \n",
        "        X_train1 = X_train[(X_train[:,0]!=n)|(X_train[:,1]<6)]\n",
        "        y_train1 = y_train[(X_train[:,0]!=n)|(X_train[:,1]<6)]\n",
        "        X_val = X_train[(X_train[:,0]==n)&(X_train[:,1]>=6)]\n",
        "        y_val = y_train[(X_train[:,0]==n)&(X_train[:,1]>=6)]\n",
        "\n",
        "  return X_train1,y_train1,X_val,y_val\n",
        "\n",
        "X_train,y_train,X_val,y_val=split(False,0,X,y,0)\n",
        "print(\"training: \", X_train.shape, y_train.shape)\n",
        "print(\"validation: \", X_val.shape, y_val.shape)"
      ],
      "execution_count": null,
      "outputs": []
    },
    {
      "cell_type": "code",
      "metadata": {
        "id": "tBedtlyjwCNx"
      },
      "source": [
        "from keras.models import Model as KerasModel\n",
        "from keras.layers import Input, Dense, Activation, Reshape, Dropout,LSTM,Flatten\n",
        "from keras.layers import Concatenate\n",
        "from keras.layers.embeddings import Embedding\n",
        "from keras import optimizers, regularizers\n",
        "from keras.callbacks import EarlyStopping\n",
        "import keras.backend as K\n",
        "import keras\n",
        "import tensorflow as tf\n"
      ],
      "execution_count": null,
      "outputs": []
    },
    {
      "cell_type": "code",
      "metadata": {
        "id": "fixz1gH2wK-6"
      },
      "source": [
        "def split_features(X):\n",
        "    X_list = []\n",
        "    for i in range(6):\n",
        "        X_list.append(X[:,i])\n",
        "    \n",
        "    return X_list\n",
        "\n",
        "# custom loss function\n",
        "def smape(x, y):\n",
        "    return 100.*K.mean(2*K.abs(x-y)/(K.abs(x)+K.abs(y)))\n",
        "\n",
        "\n",
        "class LSTMwithEmbeddings():\n",
        "    \n",
        "    def __init__(self, X_train, y_train, X_val, y_val):\n",
        "        super().__init__()\n",
        "        self._build_model()\n",
        "        #self.fit(X_train, y_train, X_val, y_val)\n",
        "        \n",
        "    def preprocess(self, X):\n",
        "        X_list = split_features(X)\n",
        "        return X_list\n",
        "        \n",
        "    def _build_model(self):\n",
        "        ## year is a continuous feature\n",
        "        inp_year = Input(shape=(1,), name=\"year\")\n",
        "        out_year = Embedding(5+1,3,name='year__embedding')(inp_year)\n",
        "        out_year = Reshape(target_shape=(3,))(out_year)\n",
        "        \n",
        "        ## all other features are categorical and need embedding\n",
        "        inp_month = Input(shape=(1,))\n",
        "        out_month = Embedding(12+1, 7, name='month_embedding')(inp_month)\n",
        "        out_month = Reshape(target_shape=(7,))(out_month)\n",
        "        \n",
        "        inp_day = Input(shape=(1,))\n",
        "        out_day = Embedding(31+1, 16, name='day_embedding')(inp_day)\n",
        "        out_day = Reshape(target_shape=(16,))(out_day)\n",
        "        \n",
        "        inp_weekday = Input(shape=(1,))\n",
        "        out_weekday = Embedding(7+1, 4, name='weekday_embedding')(inp_weekday)\n",
        "        out_weekday = Reshape(target_shape=(4,))(out_weekday)\n",
        "        \n",
        "        inp_stores = Input(shape=(1,))\n",
        "        out_stores = Embedding(10+1, 6, name='stores_embedding')(inp_stores)\n",
        "        out_stores = Reshape(target_shape=(6,))(out_stores)\n",
        "        \n",
        "        inp_items = Input(shape=(1,))\n",
        "        out_items = Embedding(50+1, 26, name='items_embedding')(inp_items)\n",
        "        out_items = Reshape(target_shape=(26,))(out_items)\n",
        "        \n",
        "        \n",
        "        inp_model = [inp_year, inp_month, inp_day, inp_weekday, inp_stores, inp_items]\n",
        "        out_embeddings = [out_year, out_month, out_day, out_weekday, out_stores, out_items]\n",
        "        \n",
        "        out_model = Concatenate()(out_embeddings)\n",
        "        #out_model = Dense(1000)(out_model)\n",
        "        #out_model = Activation('relu')(out_model)\n",
        "        #out_model = Dropout(0.3)(out_model)\n",
        "        out_model=Reshape(target_shape=(62,1))(out_model)\n",
        "        out_model=LSTM(112,return_sequences=False)(out_model)\n",
        "        out_model=Reshape(target_shape=(112,1))(out_model)\n",
        "        out_model=LSTM(96,return_sequences=False)(out_model)\n",
        "        out_model = Dense(64)(out_model)\n",
        "        out_model = Activation('relu')(out_model)\n",
        "        out_model = Dense(16)(out_model)\n",
        "        out_model = Activation('relu')(out_model)\n",
        "        #out_model = Dropout(0.3)(out_model)\n",
        "        out_model = Dense(1)(out_model)\n",
        "        \n",
        "        self.model = KerasModel(inputs=inp_model, outputs=out_model)\n",
        "        \n",
        "        self.model.compile(optimizer='Adam', metrics=['mean_absolute_error'],loss=[keras.losses.mean_squared_error])\n",
        "        \n",
        "    \n",
        "    def fit(self, X_train, y_train, X_val, y_val):\n",
        "        self.model.fit(self.preprocess(X_train), y_train,\n",
        "                       validation_data=(self.preprocess(X_val), y_val),\n",
        "                       epochs=12, batch_size=112,\n",
        "                       #callbacks=[EarlyStopping(monitor='val_loss', patience=2)],\n",
        "                   )\n",
        "        self.model.save_weights('/content/drive/My Drive/temp/weightslstmd.h5')\n",
        "        #print(\"Result on validation data: \", self.evaluate(X_val, y_val))\n",
        "    def load(self):\n",
        "      self.model.load_weights('/content/drive/My Drive/temp/weightslstmd1.h5')\n",
        "    def prediction(self, X):\n",
        "        return self.model.predict(self.preprocess(X)).flatten()"
      ],
      "execution_count": null,
      "outputs": []
    },
    {
      "cell_type": "code",
      "metadata": {
        "id": "AMoyCoUQwmmx"
      },
      "source": [
        "b=LSTMwithEmbeddings(X_train, y_train, X_val, y_val)"
      ],
      "execution_count": null,
      "outputs": []
    },
    {
      "cell_type": "code",
      "metadata": {
        "id": "13a2RBWhwpev"
      },
      "source": [
        "#b.fit(X_train, y_train, X_val, y_val)\n",
        "b.load()"
      ],
      "execution_count": null,
      "outputs": []
    },
    {
      "cell_type": "code",
      "metadata": {
        "id": "2GftNFWvD9mm"
      },
      "source": [
        "def fun(i,j):\n",
        "    X_train,y_train,X_val,y_val=split(False,i,X,y,j)\n",
        "    b.fit(X_train, y_train, X_val, y_val)\n",
        "    b.load() \n",
        "    y_pred=b.prediction(X_test)\n",
        "    return y_pred"
      ],
      "execution_count": null,
      "outputs": []
    },
    {
      "cell_type": "code",
      "metadata": {
        "id": "oScYT-oGEEo4"
      },
      "source": [
        "pred=fun(0,0)"
      ],
      "execution_count": null,
      "outputs": []
    },
    {
      "cell_type": "code",
      "metadata": {
        "id": "OAISJBWi5WTM"
      },
      "source": [
        "pred2=fun(0,1)"
      ],
      "execution_count": null,
      "outputs": []
    },
    {
      "cell_type": "code",
      "metadata": {
        "id": "sXcjzNRH5WPy"
      },
      "source": [
        "pred3=fun(1,0)"
      ],
      "execution_count": null,
      "outputs": []
    },
    {
      "cell_type": "code",
      "metadata": {
        "id": "iXCJnI9B5WLX"
      },
      "source": [
        "pred4=fun(1,1)"
      ],
      "execution_count": null,
      "outputs": []
    },
    {
      "cell_type": "code",
      "metadata": {
        "id": "ud7tX6q45WIW"
      },
      "source": [
        "pred5=fun(2,0)"
      ],
      "execution_count": null,
      "outputs": []
    },
    {
      "cell_type": "code",
      "metadata": {
        "id": "hMHhD7tp5WED"
      },
      "source": [
        "pred6=fun(2,1)"
      ],
      "execution_count": null,
      "outputs": []
    },
    {
      "cell_type": "code",
      "metadata": {
        "id": "j5U6aefN5Vqt"
      },
      "source": [
        "pred7=fun(3,0)"
      ],
      "execution_count": null,
      "outputs": []
    },
    {
      "cell_type": "code",
      "metadata": {
        "id": "KfdJnTrt5eg_"
      },
      "source": [
        "y_pred=fun(3,1)"
      ],
      "execution_count": null,
      "outputs": []
    },
    {
      "cell_type": "code",
      "metadata": {
        "id": "QXkOaTSEgjM9"
      },
      "source": [
        "b.load() # (0 1 2) # (1 1 2)  (2 1 2) (3 1 2) "
      ],
      "execution_count": null,
      "outputs": []
    },
    {
      "cell_type": "code",
      "metadata": {
        "id": "2qzRQtj5x9cT"
      },
      "source": [
        "y_pred=b.prediction(X_test)"
      ],
      "execution_count": null,
      "outputs": []
    },
    {
      "cell_type": "code",
      "metadata": {
        "id": "COGbqfOWboLh"
      },
      "source": [
        "y_pred[:5]"
      ],
      "execution_count": null,
      "outputs": []
    },
    {
      "cell_type": "code",
      "metadata": {
        "id": "5lrAqUKSbqqH"
      },
      "source": [
        "y_test_f6[:5]"
      ],
      "execution_count": null,
      "outputs": []
    },
    {
      "cell_type": "code",
      "metadata": {
        "id": "hQ3-C8Igb73o"
      },
      "source": [
        "from sklearn.metrics import r2_score,mean_absolute_error,mean_squared_error\n",
        "from keras.metrics import mean_absolute_percentage_error"
      ],
      "execution_count": null,
      "outputs": []
    },
    {
      "cell_type": "code",
      "metadata": {
        "id": "IWpjCBencAAr"
      },
      "source": [
        "r2_score(y_test,y_pred)"
      ],
      "execution_count": null,
      "outputs": []
    },
    {
      "cell_type": "code",
      "metadata": {
        "id": "_RYOSq9VcCh8"
      },
      "source": [
        "mean_absolute_percentage_error(y_test,y_pred)"
      ],
      "execution_count": null,
      "outputs": []
    },
    {
      "cell_type": "code",
      "metadata": {
        "id": "qJEFaVPf7bkx"
      },
      "source": [
        "mean_absolute_error(y_test,y_pred)"
      ],
      "execution_count": null,
      "outputs": []
    },
    {
      "cell_type": "code",
      "metadata": {
        "id": "eG6urJX_7b-P"
      },
      "source": [
        "import math\n",
        "math.sqrt(mean_squared_error(y_test,y_pred))"
      ],
      "execution_count": null,
      "outputs": []
    },
    {
      "cell_type": "code",
      "metadata": {
        "id": "3iECuZab7eo-"
      },
      "source": [
        "SS_Residual = sum((y_test-y_pred)**2)  \n",
        "print(\"SSE:\",SS_Residual)     \n",
        "SS_Total = sum((y_test-np.mean(y_test))**2)\n",
        "print(\"TSS:\",SS_Total)     \n",
        "r_squared = 1 - (float(SS_Residual))/SS_Total\n",
        "print(\"R-Square\",r_squared)\n",
        "adjusted_r_squared = 1 - (1-r_squared)*(len(y_test)-1)/(len(y_test)-X_test.shape[1]-1)\n",
        "print(\"Adjusted R-square\",adjusted_r_squared)"
      ],
      "execution_count": null,
      "outputs": []
    },
    {
      "cell_type": "code",
      "metadata": {
        "id": "Z-OvZDzw7hfc"
      },
      "source": [
        "X_test=np.array(test_data.drop('sales',axis=1))\n",
        "y_test=np.array(test_data['sales'])"
      ],
      "execution_count": null,
      "outputs": []
    },
    {
      "cell_type": "code",
      "metadata": {
        "id": "NyuRWeCIvnO4"
      },
      "source": [
        "X_test_f6=X_test[X_test[:,1]<6]"
      ],
      "execution_count": null,
      "outputs": []
    },
    {
      "cell_type": "code",
      "metadata": {
        "id": "ZRkRULS8voLg"
      },
      "source": [
        "y_test_f6=y_test[X_test[:,1]<6]"
      ],
      "execution_count": null,
      "outputs": []
    },
    {
      "cell_type": "code",
      "metadata": {
        "id": "csHND3D-wEdB"
      },
      "source": [
        "y_test_last6"
      ],
      "execution_count": null,
      "outputs": []
    },
    {
      "cell_type": "code",
      "metadata": {
        "id": "Fs-1PbzwwIVC"
      },
      "source": [
        "for i in range(1,11):\n",
        "  X_test1=X_test[X_test[:,4]==i]\n",
        "  y_test1=y_test[X_test[:,4]==i]\n",
        "  y_pred1=b.prediction(X_test1)\n",
        "  print(i,r2_score(y_test1,y_pred1))"
      ],
      "execution_count": null,
      "outputs": []
    },
    {
      "cell_type": "code",
      "metadata": {
        "id": "J0taqWT4xv0m"
      },
      "source": [
        "np.unique(X_test[:,4])"
      ],
      "execution_count": null,
      "outputs": []
    },
    {
      "cell_type": "code",
      "metadata": {
        "id": "LTifF0hg1uW_"
      },
      "source": [
        ""
      ],
      "execution_count": null,
      "outputs": []
    }
  ]
}