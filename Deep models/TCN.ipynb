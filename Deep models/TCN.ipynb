{
  "nbformat": 4,
  "nbformat_minor": 0,
  "metadata": {
    "colab": {
      "name": "TCN.ipynb",
      "provenance": [],
      "private_outputs": true,
      "mount_file_id": "1pj92luWcsCjy6a2j7K7NopdlK2LWH7vL",
      "authorship_tag": "ABX9TyNSXHn4ahxFQ5hgzigWBfNZ",
      "include_colab_link": true
    },
    "kernelspec": {
      "name": "python3",
      "display_name": "Python 3"
    },
    "accelerator": "GPU"
  },
  "cells": [
    {
      "cell_type": "markdown",
      "metadata": {
        "id": "view-in-github",
        "colab_type": "text"
      },
      "source": [
        "<a href=\"https://colab.research.google.com/github/anirudh201098/Store-Item-Demand-Forecasting/blob/master/TCN.ipynb\" target=\"_parent\"><img src=\"https://colab.research.google.com/assets/colab-badge.svg\" alt=\"Open In Colab\"/></a>"
      ]
    },
    {
      "cell_type": "code",
      "metadata": {
        "id": "hGi3E05WXnC9"
      },
      "source": [
        "import numpy as np\n",
        "import pandas as pd\n",
        "import os"
      ],
      "execution_count": null,
      "outputs": []
    },
    {
      "cell_type": "code",
      "metadata": {
        "id": "Dxw1x5FRXwtp"
      },
      "source": [
        "cd /content/drive/My Drive/Project1"
      ],
      "execution_count": null,
      "outputs": []
    },
    {
      "cell_type": "code",
      "metadata": {
        "id": "Zec9c_IBX8l3"
      },
      "source": [
        "#!git clone https://github.com/philipperemy/keras-tcn.git"
      ],
      "execution_count": null,
      "outputs": []
    },
    {
      "cell_type": "code",
      "metadata": {
        "id": "qfJQAEXRX_Xg"
      },
      "source": [
        "cd keras-tcn"
      ],
      "execution_count": null,
      "outputs": []
    },
    {
      "cell_type": "code",
      "metadata": {
        "id": "sBbPR9e9YBZk"
      },
      "source": [
        "data=pd.read_csv('/content/drive/My Drive/Project1/train.csv',parse_dates=['date'],index_col=['date'])"
      ],
      "execution_count": null,
      "outputs": []
    },
    {
      "cell_type": "code",
      "metadata": {
        "id": "xhomtKhwYL2k"
      },
      "source": [
        "data= data.sort_values('date', ascending=True)"
      ],
      "execution_count": null,
      "outputs": []
    },
    {
      "cell_type": "code",
      "metadata": {
        "id": "fXq1VtLDYPB2"
      },
      "source": [
        "test=data[data.index.year==2017]\n",
        "test.reset_index(level=0,inplace=True)\n",
        "train=data[data.index.year!=2017]\n",
        "train.reset_index(level=0,inplace=True)"
      ],
      "execution_count": null,
      "outputs": []
    },
    {
      "cell_type": "code",
      "metadata": {
        "id": "EvX8tYcGYRNi"
      },
      "source": [
        "train_data = pd.DataFrame({'year': train['date'].dt.year-2013, 'month': train['date'].dt.month, 'day': train['date'].dt.day, \n",
        "                       'weekday': train['date'].dt.weekday,\n",
        "                       'store': train.store, 'item': train.item,'sales':train.sales\n",
        "                      }, columns = ['year', 'month', 'day', 'weekday', 'store', 'item','sales'],\n",
        "                    )\n",
        "\n",
        "\n",
        "\n",
        "test_data = pd.DataFrame({'year': test['date'].dt.year-2013, 'month': test['date'].dt.month, 'day': test['date'].dt.day, \n",
        "                       'weekday': test['date'].dt.weekday,\n",
        "                       'store': test.store, 'item': test.item,'sales':test.sales\n",
        "                      }, columns = ['year', 'month', 'day', 'weekday', 'store', 'item','sales'],\n",
        "                    )\n"
      ],
      "execution_count": null,
      "outputs": []
    },
    {
      "cell_type": "code",
      "metadata": {
        "id": "JtdYHRjSYTay"
      },
      "source": [
        "X=np.array(train_data.drop('sales',axis=1))\n",
        "y=np.array(train_data['sales'])\n",
        "X_test=np.array(test_data.drop('sales',axis=1))\n",
        "y_test=np.array(test_data['sales'])"
      ],
      "execution_count": null,
      "outputs": []
    },
    {
      "cell_type": "code",
      "metadata": {
        "id": "B4CGr7knYVbH"
      },
      "source": [
        "from sklearn.model_selection import train_test_split\n",
        "def split(random,n,X_train,y_train,m):\n",
        "  random_split =random\n",
        "  train_ratio = n\n",
        "\n",
        "  if random_split:\n",
        "      X_train1, X_val, y_train1, y_val = train_test_split(X_train, y_train, test_size=(1-train_ratio), random_state=0, shuffle = True)\n",
        "  else:\n",
        "    if m==1:\n",
        "        X_train1 = X_train[(X_train[:,0]!=n)|(X_train[:,1]>6)]\n",
        "        y_train1 = y_train[(X_train[:,0]!=n)|(X_train[:,1]>6)]\n",
        "        X_val = X_train[(X_train[:,0]==n)&(X_train[:,1]<=6)]\n",
        "        y_val = y_train[(X_train[:,0]==n)&(X_train[:,1]<=6)]\n",
        "    else: \n",
        "        X_train1 = X_train[(X_train[:,0]!=n)|(X_train[:,1]<6)]\n",
        "        y_train1 = y_train[(X_train[:,0]!=n)|(X_train[:,1]<6)]\n",
        "        X_val = X_train[(X_train[:,0]==n)&(X_train[:,1]>=6)]\n",
        "        y_val = y_train[(X_train[:,0]==n)&(X_train[:,1]>=6)]\n",
        "\n",
        "  return X_train1,y_train1,X_val,y_val\n",
        "\n",
        "X_train,y_train,X_val,y_val=split(False,0,X,y,0)\n",
        "print(\"training: \", X_train.shape, y_train.shape)\n",
        "print(\"validation: \", X_val.shape, y_val.shape)"
      ],
      "execution_count": null,
      "outputs": []
    },
    {
      "cell_type": "code",
      "metadata": {
        "id": "gJU3kb0BYX4b"
      },
      "source": [
        "from keras.models import Model as KerasModel\n",
        "from keras.layers import Input, Dense, Activation, Reshape, Dropout,LSTM,Flatten\n",
        "from keras.layers import Concatenate\n",
        "from keras.layers.embeddings import Embedding\n",
        "from keras import optimizers, regularizers\n",
        "from keras.callbacks import EarlyStopping\n",
        "import keras.backend as K\n",
        "import keras\n",
        "import tensorflow as tf\n",
        "from tcn import TCN, tcn_full_summary\n"
      ],
      "execution_count": null,
      "outputs": []
    },
    {
      "cell_type": "code",
      "metadata": {
        "id": "08weL5Q5Ya-1"
      },
      "source": [
        "def split_features(X):\n",
        "    X_list = []\n",
        "    for i in range(6):\n",
        "        X_list.append(X[:,i])\n",
        "    \n",
        "    return X_list\n",
        "\n",
        "# custom loss function\n",
        "def smape(x, y):\n",
        "    return 100.*K.mean(2*K.abs(x-y)/(K.abs(x)+K.abs(y)))\n",
        "\n",
        "\n",
        "class TCNwithEmbeddings():\n",
        "    \n",
        "    def __init__(self, X_train, y_train, X_val, y_val):\n",
        "        super().__init__()\n",
        "        self._build_model()\n",
        "        #self.fit(X_train, y_train, X_val, y_val)\n",
        "        \n",
        "    def preprocess(self, X):\n",
        "        X_list = split_features(X)\n",
        "        return X_list\n",
        "        \n",
        "    def _build_model(self):\n",
        "        ## year is a continuous feature\n",
        "        inp_year = Input(shape=(1,), name=\"year\")\n",
        "        out_year = Embedding(5+1,3,name='year__embedding')(inp_year)\n",
        "        out_year = Reshape(target_shape=(3,))(out_year)\n",
        "        \n",
        "        ## all other features are categorical and need embedding\n",
        "        inp_month = Input(shape=(1,))\n",
        "        out_month = Embedding(12+1, 7, name='month_embedding')(inp_month)\n",
        "        out_month = Reshape(target_shape=(7,))(out_month)\n",
        "        \n",
        "        inp_day = Input(shape=(1,))\n",
        "        out_day = Embedding(31+1, 16, name='day_embedding')(inp_day)\n",
        "        out_day = Reshape(target_shape=(16,))(out_day)\n",
        "        \n",
        "        inp_weekday = Input(shape=(1,))\n",
        "        out_weekday = Embedding(7+1, 4, name='weekday_embedding')(inp_weekday)\n",
        "        out_weekday = Reshape(target_shape=(4,))(out_weekday)\n",
        "        \n",
        "        inp_stores = Input(shape=(1,))\n",
        "        out_stores = Embedding(10+1, 6, name='stores_embedding')(inp_stores)\n",
        "        out_stores = Reshape(target_shape=(6,))(out_stores)\n",
        "        \n",
        "        inp_items = Input(shape=(1,))\n",
        "        out_items = Embedding(50+1, 26, name='items_embedding')(inp_items)\n",
        "        out_items = Reshape(target_shape=(26,))(out_items)\n",
        "        \n",
        "        \n",
        "        inp_model = [inp_year, inp_month, inp_day, inp_weekday, inp_stores, inp_items]\n",
        "        out_embeddings = [out_year, out_month, out_day, out_weekday, out_stores, out_items]\n",
        "        \n",
        "        out_model = Concatenate()(out_embeddings)\n",
        "        #out_model = Dense(1000)(out_model)\n",
        "        #out_model = Activation('relu')(out_model)\n",
        "        #out_model = Dropout(0.3)(out_model)\n",
        "        out_model=Reshape(target_shape=(62,1))(out_model)\n",
        "        out_model=TCN(112,kernel_size=2,return_sequences=False)(out_model)\n",
        "        out_model=Reshape(target_shape=(112,1))(out_model)\n",
        "        out_model=TCN(96,kernel_size=2,use_skip_connections=True,return_sequences=False)(out_model)\n",
        "        out_model = Dense(64)(out_model)\n",
        "        out_model = Activation('relu')(out_model)\n",
        "        #out_model = Dropout(0.2)(out_model)\n",
        "        out_model = Dense(32)(out_model)\n",
        "        out_model = Activation('relu')(out_model)\n",
        "        #out_model = Dropout(0.3)(out_model)\n",
        "        out_model = Dense(1)(out_model)\n",
        "        \n",
        "        self.model = KerasModel(inputs=inp_model, outputs=out_model)\n",
        "        \n",
        "        self.model.compile(optimizer='Adam', metrics=['mean_absolute_error'],loss=[keras.losses.mean_squared_error])\n",
        "        \n",
        "    \n",
        "    def fit(self, X_train, y_train, X_val, y_val):\n",
        "        self.model.fit(self.preprocess(X_train), y_train,\n",
        "                       validation_data=(self.preprocess(X_val), y_val),\n",
        "                       epochs=2, batch_size=256,\n",
        "                       #callbacks=[EarlyStopping(monitor='val_loss', patience=2)],\n",
        "                   )\n",
        "        self.model.save_weights('/content/drive/My Drive/Project1/weightstcn3.h5') #22\n",
        "        #print(\"Result on validation data: \", self.evaluate(X_val, y_val))\n",
        "    def load(self):\n",
        "      self.model.load_weights('/content/drive/My Drive/Project1/weightstcn3.h5')   #2 0.87\n",
        "    def prediction(self, X):\n",
        "        return self.model.predict(self.preprocess(X)).flatten()"
      ],
      "execution_count": null,
      "outputs": []
    },
    {
      "cell_type": "code",
      "metadata": {
        "id": "jjNUhPvPYfB0"
      },
      "source": [
        "c=TCNwithEmbeddings(X_train, y_train, X_val, y_val)"
      ],
      "execution_count": null,
      "outputs": []
    },
    {
      "cell_type": "code",
      "metadata": {
        "id": "YycnxyD-Yg7o"
      },
      "source": [
        "# 0.83189 0.8295 \n",
        "#c.fit(X_train, y_train, X_val, y_val)\n",
        "c.load()"
      ],
      "execution_count": null,
      "outputs": []
    },
    {
      "cell_type": "code",
      "metadata": {
        "id": "vcfoXBY3YjR0"
      },
      "source": [
        " def fun(i,j):\n",
        "    X_train,y_train,X_val,y_val=split(False,i,X,y,j)\n",
        "    c.fit(X_train, y_train, X_val, y_val)\n",
        "    c.load() \n",
        "    y_pred=c.prediction(X_test)\n",
        "    return y_pred"
      ],
      "execution_count": null,
      "outputs": []
    },
    {
      "cell_type": "code",
      "metadata": {
        "id": "OgStVL9NbvCD"
      },
      "source": [
        "pred=fun(0,0)"
      ],
      "execution_count": null,
      "outputs": []
    },
    {
      "cell_type": "code",
      "metadata": {
        "id": "hQQh82lFbyv6"
      },
      "source": [
        "pred1=fun(0,1)"
      ],
      "execution_count": null,
      "outputs": []
    },
    {
      "cell_type": "code",
      "metadata": {
        "id": "e-Q0a3Yv57ZE"
      },
      "source": [
        "#c.load()\n",
        "pred2=fun(1,0)"
      ],
      "execution_count": null,
      "outputs": []
    },
    {
      "cell_type": "code",
      "metadata": {
        "id": "BiD9tHmx6JM-"
      },
      "source": [
        "pred3=fun(1,1)"
      ],
      "execution_count": null,
      "outputs": []
    },
    {
      "cell_type": "code",
      "metadata": {
        "id": "mWud2IF86LUN"
      },
      "source": [
        "pred4=fun(2,0)"
      ],
      "execution_count": null,
      "outputs": []
    },
    {
      "cell_type": "code",
      "metadata": {
        "id": "_yLutl3q6MUD"
      },
      "source": [
        "pred5=fun(2,1)"
      ],
      "execution_count": null,
      "outputs": []
    },
    {
      "cell_type": "code",
      "metadata": {
        "id": "8DWiejUG6N-M"
      },
      "source": [
        "pred6=fun(3,0)"
      ],
      "execution_count": null,
      "outputs": []
    },
    {
      "cell_type": "code",
      "metadata": {
        "id": "Vvo1SelD6R7z"
      },
      "source": [
        "y_pred=fun(3,1)"
      ],
      "execution_count": null,
      "outputs": []
    },
    {
      "cell_type": "code",
      "metadata": {
        "id": "jA8L01lZVdpm"
      },
      "source": [
        "from sklearn.metrics import r2_score,mean_absolute_error,mean_squared_error\n",
        "from keras.metrics import mean_absolute_percentage_error"
      ],
      "execution_count": null,
      "outputs": []
    },
    {
      "cell_type": "code",
      "metadata": {
        "id": "NT1vAyAvHHQU"
      },
      "source": [
        "c.load()\n",
        "#y_pred=c.prediction(X_test)\n",
        "r2_score(y_test,y_pred)"
      ],
      "execution_count": null,
      "outputs": []
    },
    {
      "cell_type": "code",
      "metadata": {
        "id": "tCuhWRQBXhUf"
      },
      "source": [
        "mean_absolute_percentage_error(y_test,y_pred)"
      ],
      "execution_count": null,
      "outputs": []
    },
    {
      "cell_type": "code",
      "metadata": {
        "id": "WBnC0LqF1x_8"
      },
      "source": [
        "mean_absolute_error(y_test,y_pred)"
      ],
      "execution_count": null,
      "outputs": []
    },
    {
      "cell_type": "code",
      "metadata": {
        "id": "62IU1deN10Vj"
      },
      "source": [
        "import math\n",
        "math.sqrt(mean_squared_error(y_test,y_pred))"
      ],
      "execution_count": null,
      "outputs": []
    },
    {
      "cell_type": "code",
      "metadata": {
        "id": "1V7MsGcZ13on"
      },
      "source": [
        "SS_Residual = sum((y_test-y_pred)**2)  \n",
        "print(\"SSE:\",SS_Residual)     \n",
        "SS_Total = sum((y_test-np.mean(y_test))**2)\n",
        "print(\"TSS:\",SS_Total)     \n",
        "r_squared = 1 - (float(SS_Residual))/SS_Total\n",
        "print(\"R-Square\",r_squared)\n",
        "adjusted_r_squared = 1 - (1-r_squared)*(len(y_test)-1)/(len(y_test)-X_test.shape[1]-1)\n",
        "print(\"Adjusted R-square\",adjusted_r_squared)"
      ],
      "execution_count": null,
      "outputs": []
    },
    {
      "cell_type": "code",
      "metadata": {
        "id": "5BUagpsH17qc"
      },
      "source": [
        "for i in range(1,13):\n",
        "  X_test1=X_test[X_test[:,1]==i]\n",
        "  y_test1=y_test[X_test[:,1]==i]\n",
        "  y_pred1=c.prediction(X_test1)\n",
        "  print(i,r2_score(y_test1,y_pred1))"
      ],
      "execution_count": null,
      "outputs": []
    },
    {
      "cell_type": "code",
      "metadata": {
        "id": "tteturpZnsdR"
      },
      "source": [
        ""
      ],
      "execution_count": null,
      "outputs": []
    }
  ]
}
