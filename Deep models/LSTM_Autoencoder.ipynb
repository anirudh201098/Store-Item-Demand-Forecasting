{
  "nbformat": 4,
  "nbformat_minor": 0,
  "metadata": {
    "accelerator": "GPU",
    "colab": {
      "name": "LSTM Autoencoder",
      "provenance": [],
      "collapsed_sections": [],
      "mount_file_id": "1QPc_cFCq1DPuogiLd8Kry0D0_V66Enm3",
      "authorship_tag": "ABX9TyNhzXYkPkezrvzJuqdm4MkJ",
      "include_colab_link": true
    },
    "kernelspec": {
      "display_name": "Python 3",
      "name": "python3"
    }
  },
  "cells": [
    {
      "cell_type": "markdown",
      "metadata": {
        "id": "view-in-github",
        "colab_type": "text"
      },
      "source": [
        "<a href=\"https://colab.research.google.com/github/anirudh201098/Store-Item-Demand-Forecasting/blob/master/LSTM_Autoencoder.ipynb\" target=\"_parent\"><img src=\"https://colab.research.google.com/assets/colab-badge.svg\" alt=\"Open In Colab\"/></a>"
      ]
    },
    {
      "cell_type": "code",
      "metadata": {
        "id": "wGQ4-_lnYmV2"
      },
      "source": [
        "import numpy as np\n",
        "import pandas as pd\n",
        "import os\n",
        "import datetime"
      ],
      "execution_count": null,
      "outputs": []
    },
    {
      "cell_type": "code",
      "metadata": {
        "id": "SF1cQ_olZY2r"
      },
      "source": [
        "data=pd.read_csv('/content/drive/My Drive/Dataset/train.csv',parse_dates=['date'],index_col=['date'])"
      ],
      "execution_count": null,
      "outputs": []
    },
    {
      "cell_type": "code",
      "metadata": {
        "id": "ChCbj2FuZZVZ"
      },
      "source": [
        "data= data.sort_values('date', ascending=True)"
      ],
      "execution_count": null,
      "outputs": []
    },
    {
      "cell_type": "code",
      "metadata": {
        "id": "aepSsS92ZbUy"
      },
      "source": [
        "test=data[data.index.year==2017]\n",
        "test.reset_index(level=0,inplace=True)\n",
        "train=data[data.index.year!=2017]\n",
        "train.reset_index(level=0,inplace=True)"
      ],
      "execution_count": null,
      "outputs": []
    },
    {
      "cell_type": "code",
      "metadata": {
        "id": "Ia26ro7aZdEu",
        "outputId": "3586d1a7-c806-4c23-9c4a-0d662957dadd",
        "colab": {
          "base_uri": "https://localhost:8080/"
        }
      },
      "source": [
        "test.shape"
      ],
      "execution_count": null,
      "outputs": [
        {
          "output_type": "execute_result",
          "data": {
            "text/plain": [
              "(182500, 4)"
            ]
          },
          "metadata": {
            "tags": []
          },
          "execution_count": 5
        }
      ]
    },
    {
      "cell_type": "code",
      "metadata": {
        "id": "8Qh6VDM7Zejm",
        "outputId": "41cd4e9f-800c-4833-a401-510cc75c8068",
        "colab": {
          "base_uri": "https://localhost:8080/",
          "height": 206
        }
      },
      "source": [
        "train.head()"
      ],
      "execution_count": null,
      "outputs": [
        {
          "output_type": "execute_result",
          "data": {
            "text/html": [
              "<div>\n",
              "<style scoped>\n",
              "    .dataframe tbody tr th:only-of-type {\n",
              "        vertical-align: middle;\n",
              "    }\n",
              "\n",
              "    .dataframe tbody tr th {\n",
              "        vertical-align: top;\n",
              "    }\n",
              "\n",
              "    .dataframe thead th {\n",
              "        text-align: right;\n",
              "    }\n",
              "</style>\n",
              "<table border=\"1\" class=\"dataframe\">\n",
              "  <thead>\n",
              "    <tr style=\"text-align: right;\">\n",
              "      <th></th>\n",
              "      <th>date</th>\n",
              "      <th>store</th>\n",
              "      <th>item</th>\n",
              "      <th>sales</th>\n",
              "    </tr>\n",
              "  </thead>\n",
              "  <tbody>\n",
              "    <tr>\n",
              "      <th>0</th>\n",
              "      <td>2013-01-01</td>\n",
              "      <td>1</td>\n",
              "      <td>1</td>\n",
              "      <td>13</td>\n",
              "    </tr>\n",
              "    <tr>\n",
              "      <th>1</th>\n",
              "      <td>2013-01-01</td>\n",
              "      <td>7</td>\n",
              "      <td>12</td>\n",
              "      <td>26</td>\n",
              "    </tr>\n",
              "    <tr>\n",
              "      <th>2</th>\n",
              "      <td>2013-01-01</td>\n",
              "      <td>7</td>\n",
              "      <td>46</td>\n",
              "      <td>27</td>\n",
              "    </tr>\n",
              "    <tr>\n",
              "      <th>3</th>\n",
              "      <td>2013-01-01</td>\n",
              "      <td>8</td>\n",
              "      <td>12</td>\n",
              "      <td>54</td>\n",
              "    </tr>\n",
              "    <tr>\n",
              "      <th>4</th>\n",
              "      <td>2013-01-01</td>\n",
              "      <td>9</td>\n",
              "      <td>12</td>\n",
              "      <td>35</td>\n",
              "    </tr>\n",
              "  </tbody>\n",
              "</table>\n",
              "</div>"
            ],
            "text/plain": [
              "        date  store  item  sales\n",
              "0 2013-01-01      1     1     13\n",
              "1 2013-01-01      7    12     26\n",
              "2 2013-01-01      7    46     27\n",
              "3 2013-01-01      8    12     54\n",
              "4 2013-01-01      9    12     35"
            ]
          },
          "metadata": {
            "tags": []
          },
          "execution_count": 6
        }
      ]
    },
    {
      "cell_type": "code",
      "metadata": {
        "id": "PXG_2FbVZgNK"
      },
      "source": [
        "\n",
        "train_data = pd.DataFrame({'year': train['date'].dt.year-2013, 'month': train['date'].dt.month, 'day': train['date'].dt.day, \n",
        "                       'weekday': train['date'].dt.weekday,\n",
        "                       'store': train.store, 'item': train.item,'sales':train.sales\n",
        "                      }, columns = ['year', 'month', 'day', 'weekday', 'store', 'item','sales'],\n",
        "                    )\n",
        "\n",
        "\n",
        "\n",
        "test_data = pd.DataFrame({'year': test['date'].dt.year-2013, 'month': test['date'].dt.month, 'day': test['date'].dt.day, \n",
        "                       'weekday': test['date'].dt.weekday,\n",
        "                       'store': test.store, 'item': test.item,'sales':test.sales\n",
        "                      }, columns = ['year', 'month', 'day', 'weekday', 'store', 'item','sales'],\n",
        "                    )\n"
      ],
      "execution_count": null,
      "outputs": []
    },
    {
      "cell_type": "code",
      "metadata": {
        "id": "P7xqtoY6ZigP"
      },
      "source": [
        "X=np.array(train_data.drop('sales',axis=1))\n",
        "y=np.array(train_data['sales'])\n",
        "X_test=np.array(test_data.drop('sales',axis=1))\n",
        "y_test=np.array(test_data['sales'])"
      ],
      "execution_count": null,
      "outputs": []
    },
    {
      "cell_type": "code",
      "metadata": {
        "id": "Z2M6mPKhZk3w",
        "outputId": "5bbc1284-8577-48f2-b8d8-b82594ed01ef",
        "colab": {
          "base_uri": "https://localhost:8080/"
        }
      },
      "source": [
        "from sklearn.model_selection import train_test_split\n",
        "def split(random,n,X_train,y_train,m):\n",
        "  random_split =random\n",
        "  train_ratio = n\n",
        "\n",
        "  if random_split:\n",
        "      X_train1, X_val, y_train1, y_val = train_test_split(X_train, y_train, test_size=(1-train_ratio), random_state=0, shuffle = True)\n",
        "  else:\n",
        "    if m==1:\n",
        "        X_train1 = X_train[(X_train[:,0]!=n)|(X_train[:,1]>6)]\n",
        "        y_train1 = y_train[(X_train[:,0]!=n)|(X_train[:,1]>6)]\n",
        "        X_val = X_train[(X_train[:,0]==n)&(X_train[:,1]<=6)]\n",
        "        y_val = y_train[(X_train[:,0]==n)&(X_train[:,1]<=6)]\n",
        "    else: \n",
        "        X_train1 = X_train[(X_train[:,0]!=n)|(X_train[:,1]<6)]\n",
        "        y_train1 = y_train[(X_train[:,0]!=n)|(X_train[:,1]<6)]\n",
        "        X_val = X_train[(X_train[:,0]==n)&(X_train[:,1]>=6)]\n",
        "        y_val = y_train[(X_train[:,0]==n)&(X_train[:,1]>=6)]\n",
        "\n",
        "  return X_train1,y_train1,X_val,y_val\n",
        "\n",
        "X_train,y_train,X_val,y_val=split(False,0,X,y,0)\n",
        "print(\"training: \", X_train.shape, y_train.shape)\n",
        "print(\"validation: \", X_val.shape, y_val.shape)"
      ],
      "execution_count": null,
      "outputs": [
        {
          "output_type": "stream",
          "text": [
            "training:  (623500, 6) (623500,)\n",
            "validation:  (107000, 6) (107000,)\n"
          ],
          "name": "stdout"
        }
      ]
    },
    {
      "cell_type": "code",
      "metadata": {
        "id": "HedZR1ZCZndr"
      },
      "source": [
        "from keras.models import Model as KerasModel\n",
        "from keras.layers import Input, Dense, Activation, Reshape, Dropout,LSTM,Flatten\n",
        "from keras.layers import Concatenate,TimeDistributed,RepeatVector\n",
        "from keras.layers.embeddings import Embedding\n",
        "from keras import optimizers, regularizers\n",
        "from keras.callbacks import EarlyStopping\n",
        "import keras.backend as K\n",
        "import keras\n",
        "import tensorflow as tf\n"
      ],
      "execution_count": null,
      "outputs": []
    },
    {
      "cell_type": "code",
      "metadata": {
        "id": "RORhue2ibwAo"
      },
      "source": [
        "def split_features(X):\n",
        "    X_list = []\n",
        "    for i in range(6):\n",
        "        X_list.append(X[:,i])\n",
        "    \n",
        "    return X_list\n",
        "\n",
        "# custom loss function\n",
        "def smape(x, y):\n",
        "    return 100.*K.mean(2*K.abs(x-y)/(K.abs(x)+K.abs(y)))\n",
        "\n",
        "\n",
        "class LSTMwithEmbeddings():\n",
        "    \n",
        "    def __init__(self, X_train, y_train, X_val, y_val):\n",
        "        super().__init__()\n",
        "        self._build_model()\n",
        "        #self.fit(X_train, y_train, X_val, y_val)\n",
        "        \n",
        "    def preprocess(self, X):\n",
        "        X_list = split_features(X)\n",
        "        return X_list\n",
        "        \n",
        "    def _build_model(self):\n",
        "        ## year is a continuous feature\n",
        "        inp_year = Input(shape=(1,), name=\"year\")\n",
        "        out_year = Embedding(5+1,3,name='year__embedding')(inp_year)\n",
        "        out_year = Reshape(target_shape=(3,))(out_year)\n",
        "        \n",
        "        ## all other features are categorical and need embedding\n",
        "        inp_month = Input(shape=(1,))\n",
        "        out_month = Embedding(12+1, 7, name='month_embedding')(inp_month)\n",
        "        out_month = Reshape(target_shape=(7,))(out_month)\n",
        "        \n",
        "        inp_day = Input(shape=(1,))\n",
        "        out_day = Embedding(31+1, 16, name='day_embedding')(inp_day)\n",
        "        out_day = Reshape(target_shape=(16,))(out_day)\n",
        "        \n",
        "        inp_weekday = Input(shape=(1,))\n",
        "        out_weekday = Embedding(7+1, 4, name='weekday_embedding')(inp_weekday)\n",
        "        out_weekday = Reshape(target_shape=(4,))(out_weekday)\n",
        "        \n",
        "        inp_stores = Input(shape=(1,))\n",
        "        out_stores = Embedding(10+1, 6, name='stores_embedding')(inp_stores)\n",
        "        out_stores = Reshape(target_shape=(6,))(out_stores)\n",
        "        \n",
        "        inp_items = Input(shape=(1,))\n",
        "        out_items = Embedding(50+1, 26, name='items_embedding')(inp_items)\n",
        "        out_items = Reshape(target_shape=(26,))(out_items)\n",
        "        \n",
        "        \n",
        "        inp_model = [inp_year, inp_month, inp_day, inp_weekday, inp_stores, inp_items]\n",
        "        out_embeddings = [out_year, out_month, out_day, out_weekday, out_stores, out_items]\n",
        "        \n",
        "        out_model = Concatenate()(out_embeddings)\n",
        "        #out_model = Dense(1000)(out_model)\n",
        "        #out_model = Activation('relu')(out_model)\n",
        "        #out_model = Dropout(0.3)(out_model)\n",
        "        out_model=Reshape(target_shape=(62,1))(out_model)\n",
        "        out_model=LSTM(112,activation='relu',return_sequences=False)(out_model)\n",
        "        #out_model=Reshape(target_shape=(62,112))(out_model)\n",
        "        out_model=RepeatVector(1)(out_model)\n",
        "        #out_model=Reshape(target_shape=(112,4))(out_model)\n",
        "        out_model=LSTM(96,activation='relu',return_sequences=True)(out_model)\n",
        "        #out_model=Reshape(target_shape=(62,1))(out_model)\n",
        "        #out_model = Dense(64)(out_model)\n",
        "        #out_model = Activation('relu')(out_model)\n",
        "        out_model = TimeDistributed(Dense(32, kernel_initializer='glorot_normal'))(out_model)\n",
        "        out_model = Activation('relu')(out_model)\n",
        "        #out_model = Dropout(0.3)(out_model)\n",
        "        out_model = TimeDistributed(Dense(1, kernel_initializer='glorot_normal'))(out_model)\n",
        "        \n",
        "        self.model = KerasModel(inputs=inp_model, outputs=out_model)\n",
        "        \n",
        "        self.model.compile(optimizer='Adam', metrics=['mean_absolute_error'],loss=[keras.losses.mean_squared_error])\n",
        "        \n",
        "    \n",
        "    def fit(self, X_train, y_train, X_val, y_val):\n",
        "        self.model.fit(self.preprocess(X_train), y_train,\n",
        "                       validation_data=(self.preprocess(X_val), y_val),#5+2\n",
        "                       epochs=2, batch_size=112,  #5+1+2+2\n",
        "                       #callbacks=[EarlyStopping(monitor='val_loss', patience=2)],\n",
        "                   )\n",
        "        self.model.save_weights('/content/drive/My Drive/Dataset/weightsauto5.h5')\n",
        "        #print(\"Result on validation data: \", self.evaluate(X_val, y_val))\n",
        "    def load(self):\n",
        "      self.model.load_weights('/content/drive/My Drive/Dataset/weightsauto5.h5')\n",
        "    def prediction(self, X):\n",
        "        return self.model.predict(self.preprocess(X)).flatten()"
      ],
      "execution_count": null,
      "outputs": []
    },
    {
      "cell_type": "code",
      "metadata": {
        "id": "Wp_gMAZBi2ha",
        "outputId": "2fb4c2ad-6809-4906-dffb-7b3b868f0c43",
        "colab": {
          "background_save": true,
          "base_uri": "https://localhost:8080/"
        }
      },
      "source": [
        "model=LSTMwithEmbeddings(X_train, y_train, X_val, y_val)"
      ],
      "execution_count": null,
      "outputs": [
        {
          "output_type": "stream",
          "text": [
            "WARNING:tensorflow:Layer lstm_2 will not use cuDNN kernel since it doesn't meet the cuDNN kernel criteria. It will use generic GPU kernel as fallback when running on GPU\n",
            "WARNING:tensorflow:Layer lstm_3 will not use cuDNN kernel since it doesn't meet the cuDNN kernel criteria. It will use generic GPU kernel as fallback when running on GPU\n"
          ],
          "name": "stdout"
        },
        {
          "output_type": "error",
          "ename": "ValueError",
          "evalue": "ignored",
          "traceback": [
            "\u001b[0;31m---------------------------------------------------------------------------\u001b[0m",
            "\u001b[0;31mValueError\u001b[0m                                Traceback (most recent call last)",
            "\u001b[0;32m<ipython-input-25-771a1a58dfb4>\u001b[0m in \u001b[0;36m<module>\u001b[0;34m()\u001b[0m\n\u001b[0;32m----> 1\u001b[0;31m \u001b[0mmodel\u001b[0m\u001b[0;34m=\u001b[0m\u001b[0mLSTMwithEmbeddings\u001b[0m\u001b[0;34m(\u001b[0m\u001b[0mX_train\u001b[0m\u001b[0;34m,\u001b[0m \u001b[0my_train\u001b[0m\u001b[0;34m,\u001b[0m \u001b[0mX_val\u001b[0m\u001b[0;34m,\u001b[0m \u001b[0my_val\u001b[0m\u001b[0;34m)\u001b[0m\u001b[0;34m\u001b[0m\u001b[0;34m\u001b[0m\u001b[0m\n\u001b[0m",
            "\u001b[0;32m<ipython-input-24-ef2acdce7e89>\u001b[0m in \u001b[0;36m__init__\u001b[0;34m(self, X_train, y_train, X_val, y_val)\u001b[0m\n\u001b[1;32m     15\u001b[0m     \u001b[0;32mdef\u001b[0m \u001b[0m__init__\u001b[0m\u001b[0;34m(\u001b[0m\u001b[0mself\u001b[0m\u001b[0;34m,\u001b[0m \u001b[0mX_train\u001b[0m\u001b[0;34m,\u001b[0m \u001b[0my_train\u001b[0m\u001b[0;34m,\u001b[0m \u001b[0mX_val\u001b[0m\u001b[0;34m,\u001b[0m \u001b[0my_val\u001b[0m\u001b[0;34m)\u001b[0m\u001b[0;34m:\u001b[0m\u001b[0;34m\u001b[0m\u001b[0;34m\u001b[0m\u001b[0m\n\u001b[1;32m     16\u001b[0m         \u001b[0msuper\u001b[0m\u001b[0;34m(\u001b[0m\u001b[0;34m)\u001b[0m\u001b[0;34m.\u001b[0m\u001b[0m__init__\u001b[0m\u001b[0;34m(\u001b[0m\u001b[0;34m)\u001b[0m\u001b[0;34m\u001b[0m\u001b[0;34m\u001b[0m\u001b[0m\n\u001b[0;32m---> 17\u001b[0;31m         \u001b[0mself\u001b[0m\u001b[0;34m.\u001b[0m\u001b[0m_build_model\u001b[0m\u001b[0;34m(\u001b[0m\u001b[0;34m)\u001b[0m\u001b[0;34m\u001b[0m\u001b[0;34m\u001b[0m\u001b[0m\n\u001b[0m\u001b[1;32m     18\u001b[0m         \u001b[0;31m#self.fit(X_train, y_train, X_val, y_val)\u001b[0m\u001b[0;34m\u001b[0m\u001b[0;34m\u001b[0m\u001b[0;34m\u001b[0m\u001b[0m\n\u001b[1;32m     19\u001b[0m \u001b[0;34m\u001b[0m\u001b[0m\n",
            "\u001b[0;32m<ipython-input-24-ef2acdce7e89>\u001b[0m in \u001b[0;36m_build_model\u001b[0;34m(self)\u001b[0m\n\u001b[1;32m     62\u001b[0m         \u001b[0;31m#out_model=RepeatVector(1)(out_model)\u001b[0m\u001b[0;34m\u001b[0m\u001b[0;34m\u001b[0m\u001b[0;34m\u001b[0m\u001b[0m\n\u001b[1;32m     63\u001b[0m         \u001b[0;31m#out_model=Reshape(target_shape=(112,4))(out_model)\u001b[0m\u001b[0;34m\u001b[0m\u001b[0;34m\u001b[0m\u001b[0;34m\u001b[0m\u001b[0m\n\u001b[0;32m---> 64\u001b[0;31m         \u001b[0mout_model\u001b[0m\u001b[0;34m=\u001b[0m\u001b[0mLSTM\u001b[0m\u001b[0;34m(\u001b[0m\u001b[0;36m96\u001b[0m\u001b[0;34m,\u001b[0m\u001b[0mactivation\u001b[0m\u001b[0;34m=\u001b[0m\u001b[0;34m'relu'\u001b[0m\u001b[0;34m,\u001b[0m\u001b[0mreturn_sequences\u001b[0m\u001b[0;34m=\u001b[0m\u001b[0;32mTrue\u001b[0m\u001b[0;34m)\u001b[0m\u001b[0;34m(\u001b[0m\u001b[0mout_model\u001b[0m\u001b[0;34m)\u001b[0m\u001b[0;34m\u001b[0m\u001b[0;34m\u001b[0m\u001b[0m\n\u001b[0m\u001b[1;32m     65\u001b[0m         \u001b[0;31m#out_model=Reshape(target_shape=(62,1))(out_model)\u001b[0m\u001b[0;34m\u001b[0m\u001b[0;34m\u001b[0m\u001b[0;34m\u001b[0m\u001b[0m\n\u001b[1;32m     66\u001b[0m         \u001b[0;31m#out_model = Dense(64)(out_model)\u001b[0m\u001b[0;34m\u001b[0m\u001b[0;34m\u001b[0m\u001b[0;34m\u001b[0m\u001b[0m\n",
            "\u001b[0;32m/usr/local/lib/python3.6/dist-packages/tensorflow/python/keras/layers/recurrent.py\u001b[0m in \u001b[0;36m__call__\u001b[0;34m(self, inputs, initial_state, constants, **kwargs)\u001b[0m\n\u001b[1;32m    661\u001b[0m \u001b[0;34m\u001b[0m\u001b[0m\n\u001b[1;32m    662\u001b[0m     \u001b[0;32mif\u001b[0m \u001b[0minitial_state\u001b[0m \u001b[0;32mis\u001b[0m \u001b[0;32mNone\u001b[0m \u001b[0;32mand\u001b[0m \u001b[0mconstants\u001b[0m \u001b[0;32mis\u001b[0m \u001b[0;32mNone\u001b[0m\u001b[0;34m:\u001b[0m\u001b[0;34m\u001b[0m\u001b[0;34m\u001b[0m\u001b[0m\n\u001b[0;32m--> 663\u001b[0;31m       \u001b[0;32mreturn\u001b[0m \u001b[0msuper\u001b[0m\u001b[0;34m(\u001b[0m\u001b[0mRNN\u001b[0m\u001b[0;34m,\u001b[0m \u001b[0mself\u001b[0m\u001b[0;34m)\u001b[0m\u001b[0;34m.\u001b[0m\u001b[0m__call__\u001b[0m\u001b[0;34m(\u001b[0m\u001b[0minputs\u001b[0m\u001b[0;34m,\u001b[0m \u001b[0;34m**\u001b[0m\u001b[0mkwargs\u001b[0m\u001b[0;34m)\u001b[0m\u001b[0;34m\u001b[0m\u001b[0;34m\u001b[0m\u001b[0m\n\u001b[0m\u001b[1;32m    664\u001b[0m \u001b[0;34m\u001b[0m\u001b[0m\n\u001b[1;32m    665\u001b[0m     \u001b[0;31m# If any of `initial_state` or `constants` are specified and are Keras\u001b[0m\u001b[0;34m\u001b[0m\u001b[0;34m\u001b[0m\u001b[0;34m\u001b[0m\u001b[0m\n",
            "\u001b[0;32m/usr/local/lib/python3.6/dist-packages/tensorflow/python/keras/engine/base_layer.py\u001b[0m in \u001b[0;36m__call__\u001b[0;34m(self, *args, **kwargs)\u001b[0m\n\u001b[1;32m    924\u001b[0m     \u001b[0;32mif\u001b[0m \u001b[0m_in_functional_construction_mode\u001b[0m\u001b[0;34m(\u001b[0m\u001b[0mself\u001b[0m\u001b[0;34m,\u001b[0m \u001b[0minputs\u001b[0m\u001b[0;34m,\u001b[0m \u001b[0margs\u001b[0m\u001b[0;34m,\u001b[0m \u001b[0mkwargs\u001b[0m\u001b[0;34m,\u001b[0m \u001b[0minput_list\u001b[0m\u001b[0;34m)\u001b[0m\u001b[0;34m:\u001b[0m\u001b[0;34m\u001b[0m\u001b[0;34m\u001b[0m\u001b[0m\n\u001b[1;32m    925\u001b[0m       return self._functional_construction_call(inputs, args, kwargs,\n\u001b[0;32m--> 926\u001b[0;31m                                                 input_list)\n\u001b[0m\u001b[1;32m    927\u001b[0m \u001b[0;34m\u001b[0m\u001b[0m\n\u001b[1;32m    928\u001b[0m     \u001b[0;31m# Maintains info about the `Layer.call` stack.\u001b[0m\u001b[0;34m\u001b[0m\u001b[0;34m\u001b[0m\u001b[0;34m\u001b[0m\u001b[0m\n",
            "\u001b[0;32m/usr/local/lib/python3.6/dist-packages/tensorflow/python/keras/engine/base_layer.py\u001b[0m in \u001b[0;36m_functional_construction_call\u001b[0;34m(self, inputs, args, kwargs, input_list)\u001b[0m\n\u001b[1;32m   1090\u001b[0m       \u001b[0;31m# TODO(reedwm): We should assert input compatibility after the inputs\u001b[0m\u001b[0;34m\u001b[0m\u001b[0;34m\u001b[0m\u001b[0;34m\u001b[0m\u001b[0m\n\u001b[1;32m   1091\u001b[0m       \u001b[0;31m# are casted, not before.\u001b[0m\u001b[0;34m\u001b[0m\u001b[0;34m\u001b[0m\u001b[0;34m\u001b[0m\u001b[0m\n\u001b[0;32m-> 1092\u001b[0;31m       \u001b[0minput_spec\u001b[0m\u001b[0;34m.\u001b[0m\u001b[0massert_input_compatibility\u001b[0m\u001b[0;34m(\u001b[0m\u001b[0mself\u001b[0m\u001b[0;34m.\u001b[0m\u001b[0minput_spec\u001b[0m\u001b[0;34m,\u001b[0m \u001b[0minputs\u001b[0m\u001b[0;34m,\u001b[0m \u001b[0mself\u001b[0m\u001b[0;34m.\u001b[0m\u001b[0mname\u001b[0m\u001b[0;34m)\u001b[0m\u001b[0;34m\u001b[0m\u001b[0;34m\u001b[0m\u001b[0m\n\u001b[0m\u001b[1;32m   1093\u001b[0m       \u001b[0mgraph\u001b[0m \u001b[0;34m=\u001b[0m \u001b[0mbackend\u001b[0m\u001b[0;34m.\u001b[0m\u001b[0mget_graph\u001b[0m\u001b[0;34m(\u001b[0m\u001b[0;34m)\u001b[0m\u001b[0;34m\u001b[0m\u001b[0;34m\u001b[0m\u001b[0m\n\u001b[1;32m   1094\u001b[0m       \u001b[0;31m# Use `self._name_scope()` to avoid auto-incrementing the name.\u001b[0m\u001b[0;34m\u001b[0m\u001b[0;34m\u001b[0m\u001b[0;34m\u001b[0m\u001b[0m\n",
            "\u001b[0;32m/usr/local/lib/python3.6/dist-packages/tensorflow/python/keras/engine/input_spec.py\u001b[0m in \u001b[0;36massert_input_compatibility\u001b[0;34m(input_spec, inputs, layer_name)\u001b[0m\n\u001b[1;32m    178\u001b[0m                          \u001b[0;34m'expected ndim='\u001b[0m \u001b[0;34m+\u001b[0m \u001b[0mstr\u001b[0m\u001b[0;34m(\u001b[0m\u001b[0mspec\u001b[0m\u001b[0;34m.\u001b[0m\u001b[0mndim\u001b[0m\u001b[0;34m)\u001b[0m \u001b[0;34m+\u001b[0m \u001b[0;34m', found ndim='\u001b[0m \u001b[0;34m+\u001b[0m\u001b[0;34m\u001b[0m\u001b[0;34m\u001b[0m\u001b[0m\n\u001b[1;32m    179\u001b[0m                          \u001b[0mstr\u001b[0m\u001b[0;34m(\u001b[0m\u001b[0mndim\u001b[0m\u001b[0;34m)\u001b[0m \u001b[0;34m+\u001b[0m \u001b[0;34m'. Full shape received: '\u001b[0m \u001b[0;34m+\u001b[0m\u001b[0;34m\u001b[0m\u001b[0;34m\u001b[0m\u001b[0m\n\u001b[0;32m--> 180\u001b[0;31m                          str(x.shape.as_list()))\n\u001b[0m\u001b[1;32m    181\u001b[0m     \u001b[0;32mif\u001b[0m \u001b[0mspec\u001b[0m\u001b[0;34m.\u001b[0m\u001b[0mmax_ndim\u001b[0m \u001b[0;32mis\u001b[0m \u001b[0;32mnot\u001b[0m \u001b[0;32mNone\u001b[0m\u001b[0;34m:\u001b[0m\u001b[0;34m\u001b[0m\u001b[0;34m\u001b[0m\u001b[0m\n\u001b[1;32m    182\u001b[0m       \u001b[0mndim\u001b[0m \u001b[0;34m=\u001b[0m \u001b[0mx\u001b[0m\u001b[0;34m.\u001b[0m\u001b[0mshape\u001b[0m\u001b[0;34m.\u001b[0m\u001b[0mndims\u001b[0m\u001b[0;34m\u001b[0m\u001b[0;34m\u001b[0m\u001b[0m\n",
            "\u001b[0;31mValueError\u001b[0m: Input 0 of layer lstm_3 is incompatible with the layer: expected ndim=3, found ndim=2. Full shape received: [None, 112]"
          ]
        }
      ]
    },
    {
      "cell_type": "code",
      "metadata": {
        "id": "nNQQ833tjCji"
      },
      "source": [
        "\n",
        "#model.fit(X_train, y_train, X_val, y_val)\n",
        "model.load()"
      ],
      "execution_count": null,
      "outputs": []
    },
    {
      "cell_type": "code",
      "metadata": {
        "id": "gzgf0KhTb78u"
      },
      "source": [
        "def fun(i,j):\n",
        "    X_train,y_train,X_val,y_val=split(False,i,X,y,j)\n",
        "    model.fit(X_train, y_train, X_val, y_val)\n",
        "    model.load() \n",
        "    y_pred=model.prediction(X_test)\n",
        "    return y_pred"
      ],
      "execution_count": null,
      "outputs": []
    },
    {
      "cell_type": "code",
      "metadata": {
        "id": "1L2Q_iCdcEyd",
        "outputId": "b4735f46-d61f-4239-b0c0-774e95425579",
        "colab": {
          "base_uri": "https://localhost:8080/",
          "height": 112
        }
      },
      "source": [
        "pred=fun(0,0)"
      ],
      "execution_count": null,
      "outputs": [
        {
          "output_type": "stream",
          "text": [
            "Epoch 1/2\n",
            "5567/5567 [==============================] - 545s 98ms/step - loss: 51.8078 - mean_absolute_error: 5.5402 - val_loss: 46.6297 - val_mean_absolute_error: 5.2700\n",
            "Epoch 2/2\n",
            "5567/5567 [==============================] - 544s 98ms/step - loss: 51.7561 - mean_absolute_error: 5.5370 - val_loss: 46.4266 - val_mean_absolute_error: 5.2562\n"
          ],
          "name": "stdout"
        }
      ]
    },
    {
      "cell_type": "code",
      "metadata": {
        "id": "fhfWZlFQcEpS",
        "outputId": "f52c7b3d-14e6-4b2a-9887-e1da075ae387",
        "colab": {
          "base_uri": "https://localhost:8080/",
          "height": 112
        }
      },
      "source": [
        "pred2=fun(0,1)"
      ],
      "execution_count": null,
      "outputs": [
        {
          "output_type": "stream",
          "text": [
            "Epoch 1/2\n",
            "5715/5715 [==============================] - 560s 98ms/step - loss: 52.2471 - mean_absolute_error: 5.5681 - val_loss: 42.2553 - val_mean_absolute_error: 4.9964\n",
            "Epoch 2/2\n",
            "5715/5715 [==============================] - 561s 98ms/step - loss: 52.2404 - mean_absolute_error: 5.5688 - val_loss: 42.1607 - val_mean_absolute_error: 4.9936\n"
          ],
          "name": "stdout"
        }
      ]
    },
    {
      "cell_type": "code",
      "metadata": {
        "id": "VuKN1RgmcEgK",
        "outputId": "4c5fbbfc-0e35-48e4-c635-93efb31b7e1b",
        "colab": {
          "base_uri": "https://localhost:8080/",
          "height": 112
        }
      },
      "source": [
        "pred3=fun(1,0)"
      ],
      "execution_count": null,
      "outputs": [
        {
          "output_type": "stream",
          "text": [
            "Epoch 1/2\n",
            "5567/5567 [==============================] - 542s 97ms/step - loss: 50.5407 - mean_absolute_error: 5.4714 - val_loss: 53.6769 - val_mean_absolute_error: 5.6480\n",
            "Epoch 2/2\n",
            "5567/5567 [==============================] - 546s 98ms/step - loss: 50.5214 - mean_absolute_error: 5.4704 - val_loss: 53.6055 - val_mean_absolute_error: 5.6496\n"
          ],
          "name": "stdout"
        }
      ]
    },
    {
      "cell_type": "code",
      "metadata": {
        "id": "MJVr7bROcETx",
        "outputId": "a631fd02-4659-49ff-9cb5-819a5262fa7c",
        "colab": {
          "base_uri": "https://localhost:8080/",
          "height": 112
        }
      },
      "source": [
        "pred4=fun(1,1)"
      ],
      "execution_count": null,
      "outputs": [
        {
          "output_type": "stream",
          "text": [
            "Epoch 1/2\n",
            "5715/5715 [==============================] - 557s 98ms/step - loss: 51.3737 - mean_absolute_error: 5.5183 - val_loss: 48.1415 - val_mean_absolute_error: 5.3400\n",
            "Epoch 2/2\n",
            "5715/5715 [==============================] - 554s 97ms/step - loss: 51.3837 - mean_absolute_error: 5.5191 - val_loss: 48.3143 - val_mean_absolute_error: 5.3420\n"
          ],
          "name": "stdout"
        }
      ]
    },
    {
      "cell_type": "code",
      "metadata": {
        "id": "uAfN_kU0cStx",
        "outputId": "6e7d14d1-a8aa-4d38-d236-e5443b8d13e6",
        "colab": {
          "base_uri": "https://localhost:8080/",
          "height": 112
        }
      },
      "source": [
        "pred5=fun(2,0)"
      ],
      "execution_count": null,
      "outputs": [
        {
          "output_type": "stream",
          "text": [
            "Epoch 1/2\n",
            "5567/5567 [==============================] - 543s 98ms/step - loss: 50.1351 - mean_absolute_error: 5.4509 - val_loss: 56.4828 - val_mean_absolute_error: 5.7791\n",
            "Epoch 2/2\n",
            "5567/5567 [==============================] - 540s 97ms/step - loss: 50.1220 - mean_absolute_error: 5.4499 - val_loss: 55.9568 - val_mean_absolute_error: 5.7709\n"
          ],
          "name": "stdout"
        }
      ]
    },
    {
      "cell_type": "code",
      "metadata": {
        "id": "ZHKp-1ZHcShs",
        "outputId": "8b1de0b0-110b-4a30-981a-85d259fab7ec",
        "colab": {
          "base_uri": "https://localhost:8080/",
          "height": 112
        }
      },
      "source": [
        "pred6=fun(2,1)"
      ],
      "execution_count": null,
      "outputs": [
        {
          "output_type": "stream",
          "text": [
            "Epoch 1/2\n",
            "5715/5715 [==============================] - 558s 98ms/step - loss: 51.1236 - mean_absolute_error: 5.5053 - val_loss: 49.8468 - val_mean_absolute_error: 5.4279\n",
            "Epoch 2/2\n",
            "5715/5715 [==============================] - 557s 97ms/step - loss: 51.1255 - mean_absolute_error: 5.5059 - val_loss: 50.5634 - val_mean_absolute_error: 5.4913\n"
          ],
          "name": "stdout"
        }
      ]
    },
    {
      "cell_type": "code",
      "metadata": {
        "id": "zJuhQkg7cXlt",
        "outputId": "3386364e-1e15-4ce4-9896-870988ff9469",
        "colab": {
          "base_uri": "https://localhost:8080/",
          "height": 112
        }
      },
      "source": [
        "pred7=fun(3,0)"
      ],
      "execution_count": null,
      "outputs": [
        {
          "output_type": "stream",
          "text": [
            "Epoch 1/2\n",
            "5567/5567 [==============================] - 541s 97ms/step - loss: 49.2663 - mean_absolute_error: 5.4046 - val_loss: 60.8332 - val_mean_absolute_error: 6.0283\n",
            "Epoch 2/2\n",
            "5567/5567 [==============================] - 543s 98ms/step - loss: 49.2537 - mean_absolute_error: 5.4038 - val_loss: 61.2496 - val_mean_absolute_error: 6.0645\n"
          ],
          "name": "stdout"
        }
      ]
    },
    {
      "cell_type": "code",
      "metadata": {
        "id": "AFxM1el_cZ-B",
        "outputId": "f2098b32-37ad-4471-df20-a93a42976691",
        "colab": {
          "base_uri": "https://localhost:8080/",
          "height": 112
        }
      },
      "source": [
        "y_pred=fun(3,1)"
      ],
      "execution_count": null,
      "outputs": [
        {
          "output_type": "stream",
          "text": [
            "Epoch 1/2\n",
            "5710/5710 [==============================] - 553s 97ms/step - loss: 50.4990 - mean_absolute_error: 5.4680 - val_loss: 54.3725 - val_mean_absolute_error: 5.6858\n",
            "Epoch 2/2\n",
            "5710/5710 [==============================] - 550s 96ms/step - loss: 50.4675 - mean_absolute_error: 5.4670 - val_loss: 54.2227 - val_mean_absolute_error: 5.6836\n"
          ],
          "name": "stdout"
        }
      ]
    },
    {
      "cell_type": "code",
      "metadata": {
        "id": "CypIpUDUj3W2"
      },
      "source": [
        "from sklearn.metrics import r2_score,mean_absolute_error,mean_squared_error\n",
        "from keras.metrics import mean_absolute_percentage_error\n"
      ],
      "execution_count": null,
      "outputs": []
    },
    {
      "cell_type": "code",
      "metadata": {
        "id": "DDa6tiNQSp30"
      },
      "source": [
        "y_pred=model.prediction(X_test)"
      ],
      "execution_count": null,
      "outputs": []
    },
    {
      "cell_type": "code",
      "metadata": {
        "id": "l7l4Gd72VGVt",
        "outputId": "f76485fd-fb3a-4b75-c120-8bc28d98c1a5",
        "colab": {
          "base_uri": "https://localhost:8080/"
        }
      },
      "source": [
        "print(y_pred.shape)\n",
        "y_test[:17]"
      ],
      "execution_count": null,
      "outputs": [
        {
          "output_type": "stream",
          "text": [
            "(182500,)\n"
          ],
          "name": "stdout"
        },
        {
          "output_type": "execute_result",
          "data": {
            "text/plain": [
              "array([18, 36, 38, 43, 66, 53, 24, 81, 49, 30, 65, 26, 33, 22, 53, 70, 84],\n",
              "      dtype=int64)"
            ]
          },
          "metadata": {
            "tags": []
          },
          "execution_count": 16
        }
      ]
    },
    {
      "cell_type": "code",
      "metadata": {
        "id": "YW7OQSlCVPqI",
        "outputId": "b21d6e66-97ac-47f8-a78a-8c898f38ef74",
        "colab": {
          "base_uri": "https://localhost:8080/"
        }
      },
      "source": [
        "y_pred[:17]"
      ],
      "execution_count": null,
      "outputs": [
        {
          "output_type": "execute_result",
          "data": {
            "text/plain": [
              "array([19.8163  , 34.04424 , 45.605022, 41.765697, 59.655777, 39.204147,\n",
              "       22.949257, 78.99566 , 45.589333, 24.377762, 65.125145, 23.591564,\n",
              "       31.140583, 18.913414, 49.587605, 73.34438 , 69.32466 ],\n",
              "      dtype=float32)"
            ]
          },
          "metadata": {
            "tags": []
          },
          "execution_count": 17
        }
      ]
    },
    {
      "cell_type": "code",
      "metadata": {
        "id": "U75-RKrTTvTj",
        "outputId": "2b288c86-35da-4dc8-a3bf-bd7d67b4d3bf",
        "colab": {
          "base_uri": "https://localhost:8080/"
        }
      },
      "source": [
        "r2_score(y_test,y_pred)"
      ],
      "execution_count": null,
      "outputs": [
        {
          "output_type": "execute_result",
          "data": {
            "text/plain": [
              "0.9300370491269196"
            ]
          },
          "metadata": {
            "tags": []
          },
          "execution_count": 18
        }
      ]
    },
    {
      "cell_type": "code",
      "metadata": {
        "id": "xQDhKkgi_IJT",
        "outputId": "c771a56b-f4b2-4df1-cddf-c34f9f88888c",
        "colab": {
          "base_uri": "https://localhost:8080/"
        }
      },
      "source": [
        "mean_absolute_percentage_error(y_test,y_pred)"
      ],
      "execution_count": null,
      "outputs": [
        {
          "output_type": "execute_result",
          "data": {
            "text/plain": [
              "<tf.Tensor: shape=(), dtype=float32, numpy=12.267833>"
            ]
          },
          "metadata": {
            "tags": []
          },
          "execution_count": 19
        }
      ]
    },
    {
      "cell_type": "code",
      "metadata": {
        "id": "rAQDOFw9_HFf",
        "outputId": "3749ccfb-c196-4a83-be09-7a9b657415ae",
        "colab": {
          "base_uri": "https://localhost:8080/"
        }
      },
      "source": [
        "mean_absolute_error(y_test,y_pred)"
      ],
      "execution_count": null,
      "outputs": [
        {
          "output_type": "execute_result",
          "data": {
            "text/plain": [
              "6.357305220643135"
            ]
          },
          "metadata": {
            "tags": []
          },
          "execution_count": 20
        }
      ]
    },
    {
      "cell_type": "code",
      "metadata": {
        "id": "VDgZs4us_HCQ",
        "outputId": "10208bfb-427b-45f1-ef3a-279a6e42bcb9",
        "colab": {
          "base_uri": "https://localhost:8080/"
        }
      },
      "source": [
        "import math\n",
        "math.sqrt(mean_squared_error(y_test,y_pred))"
      ],
      "execution_count": null,
      "outputs": [
        {
          "output_type": "execute_result",
          "data": {
            "text/plain": [
              "8.345826697737627"
            ]
          },
          "metadata": {
            "tags": []
          },
          "execution_count": 21
        }
      ]
    },
    {
      "cell_type": "code",
      "metadata": {
        "id": "GHv1JS3A_G3S",
        "outputId": "1c95226a-d27e-4ee7-cad1-9720d6fe0d1f",
        "colab": {
          "base_uri": "https://localhost:8080/"
        }
      },
      "source": [
        "SS_Residual = sum((y_test-y_pred)**2)  \n",
        "print(\"SSE:\",SS_Residual)     \n",
        "SS_Total = sum((y_test-np.mean(y_test))**2)\n",
        "print(\"TSS:\",SS_Total)     \n",
        "r_squared = 1 - (float(SS_Residual))/SS_Total\n",
        "print(\"R-Square\",r_squared)\n",
        "adjusted_r_squared = 1 - (1-r_squared)*(len(y_test)-1)/(len(y_test)-X_test.shape[1]-1)\n",
        "print(\"Adjusted R-square\",adjusted_r_squared)"
      ],
      "execution_count": null,
      "outputs": [
        {
          "output_type": "stream",
          "text": [
            "SSE: 12711640.246534308\n",
            "TSS: 181691024.8624723\n",
            "R-Square 0.9300370491269112\n",
            "Adjusted R-square 0.9300347488868733\n"
          ],
          "name": "stdout"
        }
      ]
    },
    {
      "cell_type": "code",
      "metadata": {
        "id": "UVEPu0WwUyYT",
        "outputId": "9e779e01-39a2-4e49-8ea5-e9c9733476d4",
        "colab": {
          "base_uri": "https://localhost:8080/"
        }
      },
      "source": [
        "for i in range(1,13):\n",
        "  X_test1=X_test[X_test[:,2]==i]\n",
        "  y_test1=y_test[X_test[:,2]==i]\n",
        "  y_pred1=model.prediction(X_test1)\n",
        "  print(i,r2_score(y_test1,y_pred1))"
      ],
      "execution_count": null,
      "outputs": [
        {
          "output_type": "stream",
          "text": [
            "1 0.9283117955519771\n",
            "2 0.9383807952888419\n",
            "3 0.9203974028057573\n",
            "4 0.9313028564108558\n",
            "5 0.9297803230207687\n",
            "6 0.9321943771698717\n",
            "7 0.928067139557482\n",
            "8 0.9268229394192204\n",
            "9 0.935787073068902\n",
            "10 0.9271643298876088\n",
            "11 0.931443066907179\n",
            "12 0.9273492119985556\n"
          ],
          "name": "stdout"
        }
      ]
    },
    {
      "cell_type": "code",
      "metadata": {
        "id": "026cizhq-4Va"
      },
      "source": [
        ""
      ],
      "execution_count": null,
      "outputs": []
    }
  ]
}
