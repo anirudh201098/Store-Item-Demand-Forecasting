{
  "nbformat": 4,
  "nbformat_minor": 0,
  "metadata": {
    "accelerator": "GPU",
    "colab": {
      "name": "Hydbrid (TCN+LSTM).ipynb",
      "provenance": [],
      "collapsed_sections": [],
      "include_colab_link": true
    },
    "kernelspec": {
      "display_name": "Python 3",
      "name": "python3"
    }
  },
  "cells": [
    {
      "cell_type": "markdown",
      "metadata": {
        "id": "view-in-github",
        "colab_type": "text"
      },
      "source": [
        "<a href=\"https://colab.research.google.com/github/anirudh201098/Store-Item-Demand-Forecasting/blob/master/Hydbrid_(TCN%2BLSTM).ipynb\" target=\"_parent\"><img src=\"https://colab.research.google.com/assets/colab-badge.svg\" alt=\"Open In Colab\"/></a>"
      ]
    },
    {
      "cell_type": "code",
      "metadata": {
        "id": "PVdm1SeN6nQE"
      },
      "source": [
        "import numpy as np\n",
        "import pandas as pd\n",
        "import os"
      ],
      "execution_count": 35,
      "outputs": []
    },
    {
      "cell_type": "code",
      "metadata": {
        "id": "NsY1ePRFsqf7",
        "outputId": "03e07ebb-3503-4431-996b-2af4e550b40e",
        "colab": {
          "base_uri": "https://localhost:8080/",
          "height": 36
        }
      },
      "source": [
        "from google.colab import drive\n",
        "drive.mount('/content/drive')"
      ],
      "execution_count": 36,
      "outputs": [
        {
          "output_type": "stream",
          "text": [
            "Drive already mounted at /content/drive; to attempt to forcibly remount, call drive.mount(\"/content/drive\", force_remount=True).\n"
          ],
          "name": "stdout"
        }
      ]
    },
    {
      "cell_type": "code",
      "metadata": {
        "id": "ZQoaq7dj661R",
        "outputId": "2aee28ec-f348-4ea4-aa66-a85313f9d515",
        "colab": {
          "base_uri": "https://localhost:8080/",
          "height": 36
        }
      },
      "source": [
        "cd /content/drive/My Drive/temp"
      ],
      "execution_count": 39,
      "outputs": [
        {
          "output_type": "stream",
          "text": [
            "/content/drive/My Drive/temp\n"
          ],
          "name": "stdout"
        }
      ]
    },
    {
      "cell_type": "code",
      "metadata": {
        "id": "nLVxvJlhtJGs"
      },
      "source": [
        "#!git clone https://github.com/philipperemy/keras-tcn.git"
      ],
      "execution_count": 40,
      "outputs": []
    },
    {
      "cell_type": "code",
      "metadata": {
        "id": "7Rt5pZR668v9",
        "outputId": "bdba4985-e908-4aad-c592-1754a593c4a4",
        "colab": {
          "base_uri": "https://localhost:8080/",
          "height": 36
        }
      },
      "source": [
        "cd keras-tcn"
      ],
      "execution_count": 41,
      "outputs": [
        {
          "output_type": "stream",
          "text": [
            "/content/drive/My Drive/temp/keras-tcn\n"
          ],
          "name": "stdout"
        }
      ]
    },
    {
      "cell_type": "code",
      "metadata": {
        "id": "Z1gOW2m96_DK"
      },
      "source": [
        "data=pd.read_csv('/content/drive/My Drive/temp/train.csv',parse_dates=['date'],index_col=['date'])"
      ],
      "execution_count": 42,
      "outputs": []
    },
    {
      "cell_type": "code",
      "metadata": {
        "id": "kFOL2ncN7CkX"
      },
      "source": [
        "data= data.sort_values('date', ascending=True)"
      ],
      "execution_count": 43,
      "outputs": []
    },
    {
      "cell_type": "code",
      "metadata": {
        "id": "FqwUpj8n7EqC"
      },
      "source": [
        "test=data[data.index.year==2017]\n",
        "test.reset_index(level=0,inplace=True)\n",
        "train=data[data.index.year!=2017]\n",
        "train.reset_index(level=0,inplace=True)"
      ],
      "execution_count": 44,
      "outputs": []
    },
    {
      "cell_type": "code",
      "metadata": {
        "id": "X9xIhpD77Gue"
      },
      "source": [
        "train_data = pd.DataFrame({'year': train['date'].dt.year-2013, 'month': train['date'].dt.month, 'day': train['date'].dt.day, \n",
        "                       'weekday': train['date'].dt.weekday,\n",
        "                       'store': train.store, 'item': train.item,'sales':train.sales\n",
        "                      }, columns = ['year', 'month', 'day', 'weekday', 'store', 'item','sales'],\n",
        "                    )\n",
        "\n",
        "\n",
        "\n",
        "test_data = pd.DataFrame({'year': test['date'].dt.year-2013, 'month': test['date'].dt.month, 'day': test['date'].dt.day, \n",
        "                       'weekday': test['date'].dt.weekday,\n",
        "                       'store': test.store, 'item': test.item,'sales':test.sales\n",
        "                      }, columns = ['year', 'month', 'day', 'weekday', 'store', 'item','sales'],\n",
        "                    )\n"
      ],
      "execution_count": 45,
      "outputs": []
    },
    {
      "cell_type": "code",
      "metadata": {
        "id": "Xpwr6CHh7Js2"
      },
      "source": [
        "X=np.array(train_data.drop('sales',axis=1))\n",
        "y=np.array(train_data['sales'])\n",
        "X_test=np.array(test_data.drop('sales',axis=1))\n",
        "y_test=np.array(test_data['sales'])"
      ],
      "execution_count": 46,
      "outputs": []
    },
    {
      "cell_type": "code",
      "metadata": {
        "id": "UzTrNqdZ7Mpw",
        "outputId": "ca312a43-da3c-4654-8311-c43e60341a29",
        "colab": {
          "base_uri": "https://localhost:8080/",
          "height": 54
        }
      },
      "source": [
        "from sklearn.model_selection import train_test_split\n",
        "def split(random,n,X_train,y_train,m):\n",
        "  random_split =random\n",
        "  train_ratio = n\n",
        "\n",
        "  if random_split:\n",
        "      X_train1, X_val, y_train1, y_val = train_test_split(X_train, y_train, test_size=(1-train_ratio), random_state=0, shuffle = True)\n",
        "  else:\n",
        "    if m==1:\n",
        "        X_train1 = X_train[(X_train[:,0]!=n)|(X_train[:,1]>6)]\n",
        "        y_train1 = y_train[(X_train[:,0]!=n)|(X_train[:,1]>6)]\n",
        "        X_val = X_train[(X_train[:,0]==n)&(X_train[:,1]<=6)]\n",
        "        y_val = y_train[(X_train[:,0]==n)&(X_train[:,1]<=6)]\n",
        "    else: \n",
        "        X_train1 = X_train[(X_train[:,0]!=n)|(X_train[:,1]<6)]\n",
        "        y_train1 = y_train[(X_train[:,0]!=n)|(X_train[:,1]<6)]\n",
        "        X_val = X_train[(X_train[:,0]==n)&(X_train[:,1]>=6)]\n",
        "        y_val = y_train[(X_train[:,0]==n)&(X_train[:,1]>=6)]\n",
        "\n",
        "  return X_train1,y_train1,X_val,y_val\n",
        "\n",
        "X_train,y_train,X_val,y_val=split(False,0,X,y,0)\n",
        "print(\"training: \", X_train.shape, y_train.shape)\n",
        "print(\"validation: \", X_val.shape, y_val.shape)"
      ],
      "execution_count": 47,
      "outputs": [
        {
          "output_type": "stream",
          "text": [
            "training:  (623500, 6) (623500,)\n",
            "validation:  (107000, 6) (107000,)\n"
          ],
          "name": "stdout"
        }
      ]
    },
    {
      "cell_type": "code",
      "metadata": {
        "id": "U8yf9wLw7PFm"
      },
      "source": [
        "from keras.models import Model as KerasModel\n",
        "from keras.layers import Input, Dense, Activation, Reshape, Dropout,LSTM,Flatten\n",
        "from keras.layers import Concatenate\n",
        "from keras.layers.embeddings import Embedding\n",
        "from keras import optimizers, regularizers\n",
        "from keras.callbacks import EarlyStopping\n",
        "import keras.backend as K\n",
        "import keras\n",
        "import tensorflow as tf\n",
        "from tcn import TCN, tcn_full_summary\n"
      ],
      "execution_count": 48,
      "outputs": []
    },
    {
      "cell_type": "code",
      "metadata": {
        "id": "0TQJ92W57klt"
      },
      "source": [
        "def split_features(X):\n",
        "    X_list = []\n",
        "    for i in range(6):\n",
        "        X_list.append(X[:,i])\n",
        "    \n",
        "    return X_list\n",
        "\n",
        "# custom loss function\n",
        "def smape(x, y):\n",
        "    return 100.*K.mean(2*K.abs(x-y)/(K.abs(x)+K.abs(y)))\n",
        "\n",
        "\n",
        "class HybwithEmbeddings():\n",
        "    \n",
        "    def __init__(self, X_train, y_train, X_val, y_val):\n",
        "        super().__init__()\n",
        "        self._build_model()\n",
        "        #self.fit(X_train, y_train, X_val, y_val)\n",
        "        \n",
        "    def preprocess(self, X):\n",
        "        X_list = split_features(X)\n",
        "        return X_list\n",
        "        \n",
        "    def _build_model(self):\n",
        "        ## year is a continuous feature\n",
        "        inp_year = Input(shape=(1,), name=\"year\")\n",
        "        out_year = Embedding(5+1,3,name='year__embedding')(inp_year)\n",
        "        out_year = Reshape(target_shape=(3,))(out_year)\n",
        "        \n",
        "        ## all other features are categorical and need embedding\n",
        "        inp_month = Input(shape=(1,))\n",
        "        out_month = Embedding(12+1, 7, name='month_embedding')(inp_month)\n",
        "        out_month = Reshape(target_shape=(7,))(out_month)\n",
        "        \n",
        "        inp_day = Input(shape=(1,))\n",
        "        out_day = Embedding(31+1, 16, name='day_embedding')(inp_day)\n",
        "        out_day = Reshape(target_shape=(16,))(out_day)\n",
        "        \n",
        "        inp_weekday = Input(shape=(1,))\n",
        "        out_weekday = Embedding(7+1, 4, name='weekday_embedding')(inp_weekday)\n",
        "        out_weekday = Reshape(target_shape=(4,))(out_weekday)\n",
        "        \n",
        "        inp_stores = Input(shape=(1,))\n",
        "        out_stores = Embedding(10+1, 6, name='stores_embedding')(inp_stores)\n",
        "        out_stores = Reshape(target_shape=(6,))(out_stores)\n",
        "        \n",
        "        inp_items = Input(shape=(1,))\n",
        "        out_items = Embedding(50+1, 26, name='items_embedding')(inp_items)\n",
        "        out_items = Reshape(target_shape=(26,))(out_items)\n",
        "        \n",
        "        \n",
        "        inp_model = [inp_year, inp_month, inp_day, inp_weekday, inp_stores, inp_items]\n",
        "        out_embeddings = [out_year, out_month, out_day, out_weekday, out_stores, out_items]\n",
        "        \n",
        "        out_model = Concatenate()(out_embeddings)\n",
        "        #out_model = Dense(1000)(out_model)\n",
        "        #out_model = Activation('relu')(out_model)\n",
        "        #out_model = Dropout(0.3)(out_model)\n",
        "        out_model=Reshape(target_shape=(62,1))(out_model)\n",
        "        out_model=TCN(112,kernel_size=2,return_sequences=False)(out_model)\n",
        "        out_model=Reshape(target_shape=(112,1))(out_model)\n",
        "        out_model=LSTM(96,return_sequences=False)(out_model)\n",
        "        out_model = Dense(64)(out_model)\n",
        "        out_model = Activation('relu')(out_model)\n",
        "        out_model = Dense(32)(out_model)\n",
        "        out_model = Activation('relu')(out_model)\n",
        "        #out_model = Dropout(0.3)(out_model)\n",
        "        out_model = Dense(1)(out_model)\n",
        "        \n",
        "        self.model = KerasModel(inputs=inp_model, outputs=out_model)\n",
        "        \n",
        "        self.model.compile(optimizer='Adam', metrics=['mean_absolute_error'],loss=[keras.losses.mean_squared_error])\n",
        "        \n",
        "    \n",
        "    def fit(self, X_train, y_train, X_val, y_val):\n",
        "        self.model.fit(self.preprocess(X_train), y_train,\n",
        "                       validation_data=(self.preprocess(X_val), y_val),\n",
        "                       epochs=1, batch_size=112,  #10+1+2+1\n",
        "                       #callbacks=[EarlyStopping(monitor='val_loss', patience=2)],\n",
        "                   )\n",
        "        self.model.save_weights('/content/drive/My Drive/temp/weightshyb15.h5') # 15 +2+2+10\n",
        "        #print(\"Result on validation data: \", self.evaluate(X_val, y_val))\n",
        "    def load(self):\n",
        "      self.model.load_weights('/content/drive/My Drive/temp/weightshyb15.h5')\n",
        "    def prediction(self, X):\n",
        "        return self.model.predict(self.preprocess(X)).flatten()"
      ],
      "execution_count": 50,
      "outputs": []
    },
    {
      "cell_type": "code",
      "metadata": {
        "id": "2waXt5gh8F-_"
      },
      "source": [
        "d=HybwithEmbeddings(X_train, y_train, X_val, y_val)"
      ],
      "execution_count": 51,
      "outputs": []
    },
    {
      "cell_type": "code",
      "metadata": {
        "id": "Zq_NgLUP8MTE"
      },
      "source": [
        "d.load()\n",
        "#d.fit(X_train, y_train, X_val, y_val)"
      ],
      "execution_count": 52,
      "outputs": []
    },
    {
      "cell_type": "code",
      "metadata": {
        "id": "E7ETwADi8bkZ"
      },
      "source": [
        "def fun(i,j):\n",
        "  X_train,y_train,X_val,y_val=split(False,i,X,y,j)\n",
        "  d.fit(X_train, y_train, X_val, y_val)\n",
        "  d.load() \n",
        "  y_pred=d.prediction(X_test)\n",
        "  return y_pred"
      ],
      "execution_count": 24,
      "outputs": []
    },
    {
      "cell_type": "code",
      "metadata": {
        "id": "ODCMHjB3KGLb",
        "outputId": "e81a8230-ae4d-4d90-d137-23eeabac3ab3",
        "colab": {
          "base_uri": "https://localhost:8080/",
          "height": 56
        }
      },
      "source": [
        "pred1=fun(0,0)"
      ],
      "execution_count": 25,
      "outputs": [
        {
          "output_type": "stream",
          "text": [
            "4872/4872 [==============================] - 3468s 712ms/step - loss: 51.4749 - mean_absolute_error: 5.5260 - val_loss: 46.4618 - val_mean_absolute_error: 5.2708\n"
          ],
          "name": "stdout"
        }
      ]
    },
    {
      "cell_type": "code",
      "metadata": {
        "id": "A4c09GqyKI31",
        "outputId": "f5c017af-fc5f-4884-f759-78267d72a6ba",
        "colab": {
          "base_uri": "https://localhost:8080/",
          "height": 56
        }
      },
      "source": [
        "pred2=fun(0,1)"
      ],
      "execution_count": 26,
      "outputs": [
        {
          "output_type": "stream",
          "text": [
            "5000/5000 [==============================] - 3490s 698ms/step - loss: 51.9128 - mean_absolute_error: 5.5546 - val_loss: 42.1168 - val_mean_absolute_error: 4.9944\n"
          ],
          "name": "stdout"
        }
      ]
    },
    {
      "cell_type": "code",
      "metadata": {
        "id": "-U7HXt7tPs5F",
        "outputId": "98980d5f-c3d5-4725-f7ed-0b4ca5c1db89",
        "colab": {
          "base_uri": "https://localhost:8080/",
          "height": 56
        }
      },
      "source": [
        "pred3=fun(1,0)"
      ],
      "execution_count": 27,
      "outputs": [
        {
          "output_type": "stream",
          "text": [
            "4872/4872 [==============================] - 3584s 736ms/step - loss: 50.2265 - mean_absolute_error: 5.4581 - val_loss: 53.8835 - val_mean_absolute_error: 5.6504\n"
          ],
          "name": "stdout"
        }
      ]
    },
    {
      "cell_type": "code",
      "metadata": {
        "id": "-0MzwVC2TgBo"
      },
      "source": [
        "#pred3=fun(1,1)"
      ],
      "execution_count": 58,
      "outputs": []
    },
    {
      "cell_type": "code",
      "metadata": {
        "id": "anAnL4kzPt8W"
      },
      "source": [
        "pred4=fun(2,0)"
      ],
      "execution_count": null,
      "outputs": []
    },
    {
      "cell_type": "code",
      "metadata": {
        "id": "ZdkRvmL4S95Y"
      },
      "source": [
        "#d.load()\n",
        "pred5=fun(2,1)"
      ],
      "execution_count": null,
      "outputs": []
    },
    {
      "cell_type": "code",
      "metadata": {
        "id": "OZiBPxZfsBCv"
      },
      "source": [
        "#d.load()\n",
        "pred6=fun(3,0)"
      ],
      "execution_count": null,
      "outputs": []
    },
    {
      "cell_type": "code",
      "metadata": {
        "id": "vv2q5-AksZ9A"
      },
      "source": [
        "y_pred=fun(3,1)"
      ],
      "execution_count": null,
      "outputs": []
    },
    {
      "cell_type": "code",
      "metadata": {
        "id": "A5vwEV5VvwaF"
      },
      "source": [
        "d.load()"
      ],
      "execution_count": 53,
      "outputs": []
    },
    {
      "cell_type": "code",
      "metadata": {
        "id": "dniNa7B9GXk9"
      },
      "source": [
        "from sklearn.metrics import r2_score,mean_absolute_error,mean_squared_error\n",
        "from keras.metrics import mean_absolute_percentage_error"
      ],
      "execution_count": 54,
      "outputs": []
    },
    {
      "cell_type": "code",
      "metadata": {
        "id": "vePfjl_TIG4J",
        "outputId": "cb1e2255-a07a-4d70-93ef-da67561a674f",
        "colab": {
          "base_uri": "https://localhost:8080/",
          "height": 54
        }
      },
      "source": [
        "y_pred=d.prediction(X_test)\n",
        "y_pred[:5]"
      ],
      "execution_count": 55,
      "outputs": [
        {
          "output_type": "execute_result",
          "data": {
            "text/plain": [
              "array([19.8818  , 34.139545, 45.85547 , 41.917553, 58.6609  ],\n",
              "      dtype=float32)"
            ]
          },
          "metadata": {
            "tags": []
          },
          "execution_count": 55
        }
      ]
    },
    {
      "cell_type": "code",
      "metadata": {
        "id": "nOEF6VwlIJmK",
        "outputId": "fe9da7a5-389d-48eb-dcbd-cd84cde465d1",
        "colab": {
          "base_uri": "https://localhost:8080/",
          "height": 36
        }
      },
      "source": [
        "y_test[:5]"
      ],
      "execution_count": 56,
      "outputs": [
        {
          "output_type": "execute_result",
          "data": {
            "text/plain": [
              "array([18, 36, 38, 43, 66], dtype=int64)"
            ]
          },
          "metadata": {
            "tags": []
          },
          "execution_count": 56
        }
      ]
    },
    {
      "cell_type": "code",
      "metadata": {
        "id": "9V4W8kQsILb2",
        "outputId": "4c288906-1fff-4a09-9b09-79fd4b40e6d5",
        "colab": {
          "base_uri": "https://localhost:8080/",
          "height": 36
        }
      },
      "source": [
        "r2_score(y_test,y_pred)"
      ],
      "execution_count": 57,
      "outputs": [
        {
          "output_type": "execute_result",
          "data": {
            "text/plain": [
              "0.9287456882260456"
            ]
          },
          "metadata": {
            "tags": []
          },
          "execution_count": 57
        }
      ]
    },
    {
      "cell_type": "code",
      "metadata": {
        "id": "0n915iwTISMn",
        "outputId": "c18127fb-f7f6-4078-bd5a-a6a712f1e351",
        "colab": {
          "base_uri": "https://localhost:8080/",
          "height": 36
        }
      },
      "source": [
        "mean_absolute_percentage_error(y_test,y_pred)"
      ],
      "execution_count": 73,
      "outputs": [
        {
          "output_type": "execute_result",
          "data": {
            "text/plain": [
              "<tf.Tensor: shape=(), dtype=float32, numpy=12.162421>"
            ]
          },
          "metadata": {
            "tags": []
          },
          "execution_count": 73
        }
      ]
    },
    {
      "cell_type": "code",
      "metadata": {
        "id": "BCAFXDAbIWAe",
        "outputId": "7c924369-3398-4139-c6a2-148a4e253f4b",
        "colab": {
          "base_uri": "https://localhost:8080/",
          "height": 36
        }
      },
      "source": [
        "mean_absolute_error(y_test,y_pred)"
      ],
      "execution_count": 74,
      "outputs": [
        {
          "output_type": "execute_result",
          "data": {
            "text/plain": [
              "6.177998542587071"
            ]
          },
          "metadata": {
            "tags": []
          },
          "execution_count": 74
        }
      ]
    },
    {
      "cell_type": "code",
      "metadata": {
        "id": "oGwHPcEWIaVD",
        "outputId": "1d2de0dc-96f8-42c7-8e82-a195ef6c84a4",
        "colab": {
          "base_uri": "https://localhost:8080/",
          "height": 36
        }
      },
      "source": [
        "import math\n",
        "math.sqrt(mean_squared_error(y_test,y_pred))"
      ],
      "execution_count": 75,
      "outputs": [
        {
          "output_type": "execute_result",
          "data": {
            "text/plain": [
              "8.093182803328943"
            ]
          },
          "metadata": {
            "tags": []
          },
          "execution_count": 75
        }
      ]
    },
    {
      "cell_type": "code",
      "metadata": {
        "id": "bUwO__o0IeBS",
        "outputId": "c4fb7f9d-dc42-45d9-a308-bc7a794ed4c3",
        "colab": {
          "base_uri": "https://localhost:8080/",
          "height": 92
        }
      },
      "source": [
        "SS_Residual = sum((y_test-y_pred)**2)  \n",
        "print(\"SSE:\",SS_Residual)     \n",
        "SS_Total = sum((y_test-np.mean(y_test))**2)\n",
        "print(\"TSS:\",SS_Total)     \n",
        "r_squared = 1 - (float(SS_Residual))/SS_Total\n",
        "print(\"R-Square\",r_squared)\n",
        "adjusted_r_squared = 1 - (1-r_squared)*(len(y_test)-1)/(len(y_test)-X_test.shape[1]-1)\n",
        "print(\"Adjusted R-square\",adjusted_r_squared)"
      ],
      "execution_count": 23,
      "outputs": [
        {
          "output_type": "stream",
          "text": [
            "SSE: 12306034.92971066\n",
            "TSS: 181691024.8624723\n",
            "R-Square 0.932269439621327\n",
            "Adjusted R-square 0.9322672127777644\n"
          ],
          "name": "stdout"
        }
      ]
    },
    {
      "cell_type": "code",
      "metadata": {
        "id": "D6cTBOilIhpc",
        "outputId": "261b777d-afe5-44e3-f91b-b0b4ad168ffa",
        "colab": {
          "base_uri": "https://localhost:8080/",
          "height": 204
        }
      },
      "source": [
        "for i in range(1,11):\n",
        "  X_test1=X_test[X_test[:,4]==i]\n",
        "  y_test1=y_test[X_test[:,4]==i]\n",
        "  y_pred1=d.prediction(X_test1)\n",
        "  print(i,r2_score(y_test1,y_pred1))"
      ],
      "execution_count": 40,
      "outputs": [
        {
          "output_type": "stream",
          "text": [
            "1 0.907739364739378\n",
            "2 0.9352596226144874\n",
            "3 0.9282888986267581\n",
            "4 0.9229580725862196\n",
            "5 0.8948640410390035\n",
            "6 0.8960416530454531\n",
            "7 0.8913732393699615\n",
            "8 0.9323955317241314\n",
            "9 0.924323150059276\n",
            "10 0.9277394021157243\n"
          ],
          "name": "stdout"
        }
      ]
    },
    {
      "cell_type": "code",
      "metadata": {
        "id": "QNiX3MUQmPyE"
      },
      "source": [
        ""
      ],
      "execution_count": null,
      "outputs": []
    }
  ]
}